{
 "cells": [
  {
   "cell_type": "code",
   "execution_count": 3,
   "id": "3ae83d65-63df-43ff-86cb-e757e51c7417",
   "metadata": {},
   "outputs": [],
   "source": [
    "import pandas as pd\n",
    "# Pandas Series provides more flexibility and functionality when working with labeled, heterogeneous, or incomplete datasets,\n",
    "# making it more suitable for real-world data analysis tasks compared to NumPy arrays, which are more focused on \n",
    "# performance and mathematical operations.\n",
    "# 2 major data structures used in pandas are Series and DataFrame\n",
    "# Both Series and DataFrame are critical data structures,\n",
    "# but they serve slightly different purposes and have different characteristics\n",
    "# 1) Series\n",
    "# 2) DataFrame\n"
   ]
  },
  {
   "cell_type": "code",
   "execution_count": 3,
   "id": "9e21bdb9-829b-4dd6-958c-d01c199a418d",
   "metadata": {},
   "outputs": [
    {
     "name": "stdout",
     "output_type": "stream",
     "text": [
      "0    10\n",
      "1    20\n",
      "2    30\n",
      "3    40\n",
      "4    50\n",
      "dtype: int64\n"
     ]
    }
   ],
   "source": [
    "# Creating a Series from a List\n",
    "# By default, Pandas assigns a numeric index that starts from 0, similar to Python list indexing\n",
    "# Parameter\tDescription                                                      \t                      \n",
    "# 1)data ( Required)  \n",
    "#                   The data to be stored in the Series. It can be various types such as a list, \n",
    "#                   NumPy array, dictionary, scalar value,or another Pandas Series.\t                            \n",
    "# 2)index(optional---default integer index 0,1,2...)\t\n",
    "#                   The labels for the Series, which are optional. It should be the same length as the data.\t\n",
    "# 3) dtype None (inferred)\tThe data type of the Series. If not specified, Pandas will infer the data type from the input.\t\n",
    "# 4) name\t(None) A name for the Series, useful when the Series is part of a DataFrame or for labeling purposes.\n",
    "# 5) copy\t(False)If True, the data is copied; otherwise, it’s a reference.\tFalse\n",
    "# 6) fastpath\tThis is an internal parameter used to bypass certain checks. Not typically used by users.\n",
    "\n",
    "# Create a Series from a list\n",
    "data = [10, 20, 30, 40, 50]\n",
    "series = pd.Series(data)\n",
    "\n",
    "print(series) # The first column represents the index of the Series\n",
    "              #  The second column shows the actual data values in the Series"
   ]
  },
  {
   "cell_type": "code",
   "execution_count": 79,
   "id": "62564852-ff1c-4858-8b9c-13b7fe01b3ab",
   "metadata": {},
   "outputs": [
    {
     "name": "stdout",
     "output_type": "stream",
     "text": [
      "a    12\n",
      "b    -4\n",
      "c     7\n",
      "d     9\n",
      "dtype: int64\n"
     ]
    }
   ],
   "source": [
    "# Creating a Series with a Custom Index\n",
    "\n",
    "s1 = pd.Series([12,-4,7,9], index=['a','b','c','d'])\n",
    "print(s1)"
   ]
  },
  {
   "cell_type": "code",
   "execution_count": 9,
   "id": "5689de8d-d147-40cd-b906-c222bc0d78b1",
   "metadata": {},
   "outputs": [
    {
     "name": "stdout",
     "output_type": "stream",
     "text": [
      "A    1\n",
      "B    2\n",
      "C    3\n",
      "D    4\n",
      "E    5\n",
      "dtype: int64\n"
     ]
    }
   ],
   "source": [
    "index = ['A', 'B', 'C', 'D', 'E']\n",
    "series = pd.Series(data, index=index)\n",
    "\n",
    "print(series)"
   ]
  },
  {
   "cell_type": "code",
   "execution_count": 13,
   "id": "89dc66aa-b06d-4c4d-aca3-bd4d793f43d3",
   "metadata": {},
   "outputs": [
    {
     "name": "stdout",
     "output_type": "stream",
     "text": [
      "0    5\n",
      "1    5\n",
      "2    5\n",
      "3    5\n",
      "4    5\n",
      "dtype: int64\n"
     ]
    }
   ],
   "source": [
    "# Create a Series from a scalar value\n",
    "scalar_series = pd.Series(5, index=[0, 1, 2, 3, 4])\n",
    "print(scalar_series)"
   ]
  },
  {
   "cell_type": "code",
   "execution_count": 7,
   "id": "8c5ad8f2-5ef8-402c-8d5e-8f792d78f858",
   "metadata": {},
   "outputs": [
    {
     "name": "stdout",
     "output_type": "stream",
     "text": [
      "A    65\n",
      "B    66\n",
      "C    67\n",
      "D    68\n",
      "E    69\n",
      "dtype: int64\n",
      "s1['A'] is 65\n",
      "s1.loc['A'] is 65\n",
      "s1.iloc[0] is 65\n",
      "s1.iloc[-5] is 65\n",
      "The modified series is:\n",
      "A    65\n",
      "B    66\n",
      "C    67\n",
      "D    68\n",
      "E    69\n",
      "a    97\n",
      "b    98\n",
      "dtype: int64\n",
      "s1[0] is 65\n"
     ]
    },
    {
     "name": "stderr",
     "output_type": "stream",
     "text": [
      "C:\\Users\\suma.d\\AppData\\Local\\Temp\\ipykernel_24884\\1832962081.py:22: FutureWarning: Series.__getitem__ treating keys as positions is deprecated. In a future version, integer keys will always be treated as labels (consistent with DataFrame behavior). To access a value by position, use `ser.iloc[pos]`\n",
      "  print(\"s1[0] is\", s1[0]) #   s1[0] is 65\n"
     ]
    }
   ],
   "source": [
    "# Accessing elements using index ( Indexing)\n",
    "# .loc[] attribute is used to access elements by their  label-based indexing (custome index)\n",
    "# In a Pandas Series, the .iloc[] attribute is used to access elements by their integer location, or positional index. \n",
    "\n",
    "s1 = pd.Series([65,66,67,68,69], index=['A','B','C','D','E']) # Series has a custom index\n",
    "print(s1)\n",
    "print(\"s1['A'] is\", s1['A']) #   s1['A'] is 65\n",
    "print(\"s1.loc['A'] is\", s1.loc['A']) #   s1.loc['A'] is 65             label based indexing\n",
    "\n",
    "\n",
    "print(\"s1.iloc[0] is\", s1.iloc[0]) #   s1.iloc[0] is 65\n",
    "print(\"s1.iloc[-5] is\", s1.iloc[-5]) #   s1.iloc[-5] is 65\n",
    "\n",
    "\n",
    "# To add an element to the existing series\n",
    "s1['a']=97\n",
    "s1.loc['b']=98\n",
    "\n",
    "print(\"The modified series is:\")\n",
    "print(s1)\n",
    "\n",
    "print(\"s1[0] is\", s1[0]) #   s1[0] is 65"
   ]
  },
  {
   "cell_type": "code",
   "execution_count": 3,
   "id": "767f2a0a-8144-4e46-88ce-7dca00f1a443",
   "metadata": {},
   "outputs": [
    {
     "name": "stdout",
     "output_type": "stream",
     "text": [
      "The series ages is:\n",
      "0    25\n",
      "1    30\n",
      "2    35\n",
      "3    40\n",
      "4    45\n",
      "dtype: int64 \n",
      "\n",
      "<class 'pandas.core.series.Series'>\n",
      "The people older than 30 are\n",
      "2    35\n",
      "3    40\n",
      "4    45\n",
      "dtype: int64\n"
     ]
    }
   ],
   "source": [
    "# Filtering values using boolean indexing\n",
    "import pandas as pd\n",
    "import numpy as np\n",
    "# Create a Series\n",
    "ageSeries = pd.Series([25, 30, 35, 40, 45])\n",
    "print(\"The series ages is:\")\n",
    "print(ageSeries,\"\\n\")\n",
    "# Filter to find all values greater than 30\n",
    "\n",
    "older_than_30 = ageSeries[ageSeries > 30]\n",
    "print(type(older_than_30))\n",
    "print( \"The people older than 30 are\")\n",
    "print(older_than_30)"
   ]
  },
  {
   "cell_type": "code",
   "execution_count": 73,
   "id": "90a292b3-9ff5-4eb1-921d-426e224650be",
   "metadata": {},
   "outputs": [
    {
     "name": "stdout",
     "output_type": "stream",
     "text": [
      "The series after operation s/2 is:\n",
      "0    2.0\n",
      "1    3.0\n",
      "2   -4.0\n",
      "3    4.5\n",
      "dtype: float64\n",
      "The series log(s) is:\n"
     ]
    },
    {
     "name": "stderr",
     "output_type": "stream",
     "text": [
      "D:\\Anaconda\\Lib\\site-packages\\pandas\\core\\arraylike.py:399: RuntimeWarning: invalid value encountered in log\n",
      "  result = getattr(ufunc, method)(*inputs, **kwargs)\n"
     ]
    },
    {
     "data": {
      "text/plain": [
       "0    1.386294\n",
       "1    1.791759\n",
       "2         NaN\n",
       "3    2.197225\n",
       "dtype: float64"
      ]
     },
     "execution_count": 73,
     "metadata": {},
     "output_type": "execute_result"
    }
   ],
   "source": [
    "#  Mathematical operations\n",
    "s=pd.Series([4,6,-8,9])\n",
    "print(\"The series after operation s/2 is:\")\n",
    "print(s/2)\n",
    "print(\"The series log(s) is:\")\n",
    "np.log(s)"
   ]
  },
  {
   "cell_type": "code",
   "execution_count": 75,
   "id": "e7f9530c-c920-4f00-9d4b-f11f73c80181",
   "metadata": {},
   "outputs": [
    {
     "name": "stdout",
     "output_type": "stream",
     "text": [
      "The series is:\n",
      "white     1\n",
      "white     0\n",
      "blue      2\n",
      "green     1\n",
      "green     2\n",
      "yellow    3\n",
      "dtype: int64 \n",
      "\n",
      "type(uni_values): <class 'numpy.ndarray'>\n",
      "[1 0 2 3]\n"
     ]
    },
    {
     "data": {
      "text/plain": [
       "array([1, 0, 2, 3], dtype=int64)"
      ]
     },
     "execution_count": 75,
     "metadata": {},
     "output_type": "execute_result"
    }
   ],
   "source": [
    "# unique() function: To know all the values contained within the Series excluding duplicates \n",
    "\n",
    "serd = pd.Series([1,0,2,1,2,3], index=['white','white','blue','green','green','yellow'])\n",
    "print(\"The series is:\")\n",
    "print(serd, \"\\n\")\n",
    "uni_values=serd.unique() ; # \n",
    "print(\"type(uni_values):\",type(uni_values))\n",
    "print(uni_values)\n",
    "uni_values"
   ]
  },
  {
   "cell_type": "code",
   "execution_count": 79,
   "id": "8094f7be-141b-41e4-8cd1-8296c5b4918f",
   "metadata": {},
   "outputs": [
    {
     "name": "stdout",
     "output_type": "stream",
     "text": [
      "Val  Count\n"
     ]
    },
    {
     "data": {
      "text/plain": [
       "1    2\n",
       "2    2\n",
       "0    1\n",
       "3    1\n",
       "Name: count, dtype: int64"
      ]
     },
     "execution_count": 79,
     "metadata": {},
     "output_type": "execute_result"
    }
   ],
   "source": [
    "# value_counts( ): This function not only returns the unique values but calculates occurrences within a Series.\n",
    "\n",
    "newSeries=serd.value_counts()\n",
    "print(\"Val  Count\")\n",
    "newSeries\n"
   ]
  },
  {
   "cell_type": "code",
   "execution_count": 75,
   "id": "68ea1aa8-6a52-4177-8e0d-5404a40eae6b",
   "metadata": {},
   "outputs": [
    {
     "name": "stdout",
     "output_type": "stream",
     "text": [
      "The filtered list is:\n",
      "0     True\n",
      "1    False\n",
      "2     True\n",
      "3    False\n",
      "4     True\n",
      "5    False\n",
      "6     True\n",
      "7    False\n",
      "8    False\n",
      "9    False\n",
      "dtype: bool\n"
     ]
    }
   ],
   "source": [
    "# isin( ) is a function evaluates the membership, that is, given a list of values, this function shows \n",
    "# if these values are contained within the data structure. Boolean values that are returned\n",
    "import pandas as pd\n",
    "\n",
    "# Create a Series\n",
    "data = pd.Series([1, 2, 3, 4, 5, 6, 7, 8, 9, 10])\n",
    "\n",
    "# Define the values to filter\n",
    "values_to_check = [1, 3, 5, 7]\n",
    "# Elements at positions 0, 2, 4, and 6 (1, 3, 5, 7) return True because they are in the list [1, 3, 5, 7].\n",
    "# Use isin() to check which elements are in the specified list\n",
    "filtered = data.isin(values_to_check)\n",
    "print(\"The filtered list is:\")\n",
    "print(filtered)\n"
   ]
  },
  {
   "cell_type": "code",
   "execution_count": 29,
   "id": "237745a9-d775-4686-8e5c-5a64a19aba0b",
   "metadata": {},
   "outputs": [
    {
     "name": "stdout",
     "output_type": "stream",
     "text": [
      "0    1.0\n",
      "1    2.0\n",
      "2    NaN\n",
      "3    4.0\n",
      "4    5.0\n",
      "5    NaN\n",
      "dtype: float64\n"
     ]
    }
   ],
   "source": [
    "# np.NaN from the NumPy library, which stands for \"Not a Number.\"\n",
    "# It's a special floating-point value that represents missing data in numeric and non-numeric arrays alike.\n",
    "# While constructing Series or DataFrame in Pandas, place np.NaN to indicate that a value is missing.\n",
    "# Create a Series with explicit missing values\n",
    "data = [1, 2, np.NaN, 4, 5, None]\n",
    "series = pd.Series(data)\n",
    "print(series)\n",
    "\n",
    "# Pandas automatically converts integers to floats in this case, because np.NaN is a floating-point value, \n",
    "# and arrays in Pandas need to be of a uniform data type"
   ]
  },
  {
   "cell_type": "code",
   "execution_count": 43,
   "id": "bb076368-301f-4a46-a8b5-cfd78e85dc35",
   "metadata": {},
   "outputs": [
    {
     "name": "stdout",
     "output_type": "stream",
     "text": [
      "The series is\n",
      "0    1.0\n",
      "1    2.0\n",
      "2    NaN\n",
      "3    4.0\n",
      "4    5.0\n",
      "5    NaN\n",
      "dtype: float64\n",
      "\n",
      "Return type of isnull(), i.e., type(series.isnull()): <class 'pandas.core.series.Series'>\n",
      "\n",
      "Show missing values using series.isnull()\n",
      "0    False\n",
      "1    False\n",
      "2     True\n",
      "3    False\n",
      "4    False\n",
      "5     True\n",
      "dtype: bool\n",
      "\n",
      "notnull() output\n",
      "0     True\n",
      "1     True\n",
      "2    False\n",
      "3     True\n",
      "4     True\n",
      "5    False\n",
      "dtype: bool\n",
      "\n",
      "filled_series after filling 0 to missing values using filled_series = series.fillna(0)\n",
      "0    1.0\n",
      "1    2.0\n",
      "2    0.0\n",
      "3    4.0\n",
      "4    5.0\n",
      "5    0.0\n",
      "dtype: float64\n",
      "clean_series after removing missing values using clean_series = series.dropna()\n",
      "0    1.0\n",
      "1    2.0\n",
      "3    4.0\n",
      "4    5.0\n",
      "dtype: float64\n"
     ]
    }
   ],
   "source": [
    "# Working with Missing Values\n",
    "# The isnull( ) and notnull( ) functions are very useful to identify the indexes without a value.\n",
    "# Use isna() or isnull() to check for missing values, which returns a Boolean array.\n",
    "print(\"The series is\")\n",
    "print(series)\n",
    "# Check for missing values\n",
    "print(\"\\nReturn type of isnull(), i.e., type(series.isnull()):\",type(series.isnull())) #  bool Series type\n",
    "print(\"\\nShow missing values using series.isnull()\")\n",
    "bool_series_missing_values=series.isnull()\n",
    "print(bool_series_missing_values)\n",
    "\n",
    "print(\"\\nnotnull() output\")\n",
    "print(series.notnull())\n",
    "\n",
    "# Fill missing values with a specified value\n",
    "print(\"\\nfilled_series after filling 0 to missing values using filled_series = series.fillna(0)\")\n",
    "filled_series = series.fillna(0)\n",
    "print(filled_series)\n",
    "\n",
    "\n",
    "# Use dropna() to remove rows or columns containing missing values\n",
    "clean_series = series.dropna()\n",
    "print(\"clean_series after removing missing values using clean_series = series.dropna()\")\n",
    "print(clean_series)\n",
    "\n"
   ]
  },
  {
   "cell_type": "code",
   "execution_count": 97,
   "id": "1b68dc0e-a7da-488f-a294-cbc5fc2ef944",
   "metadata": {},
   "outputs": [
    {
     "name": "stdout",
     "output_type": "stream",
     "text": [
      "0    1\n",
      "1    2\n",
      "2    3\n",
      "3    4\n",
      "dtype: int32\n"
     ]
    }
   ],
   "source": [
    "# Defining Series from NumPy Arrays \n",
    "import numpy as np\n",
    "arr = np.array([1,2,3,4])\n",
    "s3 = pd.Series(arr)\n",
    "print(s3)"
   ]
  },
  {
   "cell_type": "code",
   "execution_count": 45,
   "id": "eef31087-db0c-4ae3-b46a-d69022bc478d",
   "metadata": {},
   "outputs": [
    {
     "name": "stdout",
     "output_type": "stream",
     "text": [
      "The series is:\n",
      "a    1\n",
      "b    2\n",
      "c    3\n",
      "d    4\n",
      "dtype: int64\n",
      "\n",
      "Series.values= [1 2 3 4]\n",
      "Series.index= Index(['a', 'b', 'c', 'd'], dtype='object')\n",
      "The value of series['a'] is 1\n",
      "series[0:2]=\n",
      "a    1\n",
      "b    2\n",
      "dtype: int64\n"
     ]
    }
   ],
   "source": [
    "# Creating a Series from a Dictionary\n",
    "#the array of index is filled with the values of the keys while the data with the corresponding values. \n",
    "\n",
    "data_dict = {'a': 1, 'b': 2, 'c': 3, 'd':4}\n",
    "series = pd.Series(data_dict)\n",
    "print(\"The series is:\")\n",
    "print(series)\n",
    "\n",
    "print(\"\\nSeries.values=\",series.values)\n",
    "print(\"Series.index=\",series.index)\n",
    "print(\"The value of series['a'] is\",series['a'])\n",
    "print(\"series[0:2]=\")\n",
    "print(series[0:2])\n"
   ]
  },
  {
   "cell_type": "code",
   "execution_count": 115,
   "id": "1fde6392-a90b-4863-badc-4eb72f53f00b",
   "metadata": {},
   "outputs": [
    {
     "name": "stdout",
     "output_type": "stream",
     "text": [
      "red       2000\n",
      "blue      1000\n",
      "yellow     500\n",
      "orange    1000\n",
      "dtype: int64\n"
     ]
    }
   ],
   "source": [
    "mydict = {'red': 2000, 'blue': 1000, 'yellow': 500, 'orange': 1000}\n",
    "myseries1 = pd.Series(mydict)\n",
    "print(myseries1)"
   ]
  },
  {
   "cell_type": "code",
   "execution_count": 121,
   "id": "f853081f-0d65-4a92-9c40-078c4509e01b",
   "metadata": {},
   "outputs": [
    {
     "name": "stdout",
     "output_type": "stream",
     "text": [
      "red       2000.0\n",
      "yellow     500.0\n",
      "orange    1000.0\n",
      "blue      1000.0\n",
      "green        NaN\n",
      "violet       NaN\n",
      "dtype: float64\n"
     ]
    }
   ],
   "source": [
    "colors = ['red','yellow','orange','blue','green','violet']\n",
    "myseries2 = pd.Series(mydict, index=colors)\n",
    "print(myseries2)"
   ]
  },
  {
   "cell_type": "code",
   "execution_count": 9,
   "id": "63242d5c-3be0-41d3-a34c-722fc9ddf597",
   "metadata": {},
   "outputs": [
    {
     "name": "stdout",
     "output_type": "stream",
     "text": [
      "Addition:\n",
      " 0    11.0\n",
      "1    22.0\n",
      "2    33.0\n",
      "3    44.0\n",
      "4    55.0\n",
      "5     NaN\n",
      "dtype: float64\n",
      "Subtraction:\n",
      " 0    -9.0\n",
      "1   -18.0\n",
      "2   -27.0\n",
      "3   -36.0\n",
      "4   -45.0\n",
      "5     NaN\n",
      "dtype: float64\n",
      "Multiplication:\n",
      " 0     10.0\n",
      "1     40.0\n",
      "2     90.0\n",
      "3    160.0\n",
      "4    250.0\n",
      "5      NaN\n",
      "dtype: float64\n",
      "Division:\n",
      " 0    10.0\n",
      "1    10.0\n",
      "2    10.0\n",
      "3    10.0\n",
      "4    10.0\n",
      "5     NaN\n",
      "dtype: float64\n"
     ]
    }
   ],
   "source": [
    "# opearions between series\n",
    "import pandas as pd\n",
    "\n",
    "# Create two Series\n",
    "s1 = pd.Series([1, 2, 3, 4, 5,6])\n",
    "s2 = pd.Series([10, 20, 30, 40, 50])\n",
    "\n",
    "# Arithmetic operations  ( element by element operaion)\n",
    "add = s1 + s2\n",
    "sub = s1 - s2\n",
    "mul = s1 * s2\n",
    "div = s2 / s1\n",
    "\n",
    "print(\"Addition:\\n\", add)\n",
    "print(\"Subtraction:\\n\", sub)\n",
    "print(\"Multiplication:\\n\", mul)\n",
    "print(\"Division:\\n\", div)\n"
   ]
  },
  {
   "cell_type": "code",
   "execution_count": 11,
   "id": "fb9e6b4e-6bb3-4d32-b509-9389d5eab8a6",
   "metadata": {},
   "outputs": [
    {
     "name": "stdout",
     "output_type": "stream",
     "text": [
      "0    1\n",
      "1    2\n",
      "2    3\n",
      "3    4\n",
      "4    5\n",
      "5    6\n",
      "dtype: int64\n",
      "Scalar Multiplication s1 * 2:\n",
      " 0     2\n",
      "1     4\n",
      "2     6\n",
      "3     8\n",
      "4    10\n",
      "5    12\n",
      "dtype: int64\n"
     ]
    }
   ],
   "source": [
    "# Broadcasting Operations ,Scalar multiplication\n",
    "print(s1)\n",
    "scalar_prod = s1 * 2\n",
    "print(\"Scalar Multiplication s1 * 2:\\n\", scalar_prod)"
   ]
  },
  {
   "cell_type": "code",
   "execution_count": 123,
   "id": "f8dd12fa-1c35-478d-a802-67a6dca0f327",
   "metadata": {},
   "outputs": [
    {
     "data": {
      "text/plain": [
       "black        NaN\n",
       "blue         NaN\n",
       "orange       NaN\n",
       "red       2400.0\n",
       "yellow    1500.0\n",
       "dtype: float64"
      ]
     },
     "execution_count": 123,
     "metadata": {},
     "output_type": "execute_result"
    }
   ],
   "source": [
    "# Operations between Series\n",
    "# Handling Mismatched Indexes\n",
    "mydict1= {'red': 2000, 'blue': 1000, 'yellow': 500, 'orange': 1000}\n",
    "s1 = pd.Series(mydict1)\n",
    "\n",
    "mydict2 = {'red':400,'yellow':1000,'black':700}\n",
    "s2 = pd.Series(mydict2)\n",
    "s1 + s2"
   ]
  },
  {
   "cell_type": "code",
   "execution_count": 127,
   "id": "88eed0cf-6206-4e42-b6de-26033d03123a",
   "metadata": {},
   "outputs": [
    {
     "name": "stdout",
     "output_type": "stream",
     "text": [
      "Sum: 15\n",
      "Mean: 3.0\n",
      "Median: 3.0\n",
      "Standard Deviation: 1.5811388300841898\n"
     ]
    }
   ],
   "source": [
    "# Statistical operations\n",
    "print(\"Sum:\", s1.sum())\n",
    "print(\"Mean:\", s1.mean())\n",
    "print(\"Median:\", s1.median())\n",
    "print(\"Standard Deviation:\", s1.std())\n"
   ]
  },
  {
   "cell_type": "code",
   "execution_count": 129,
   "id": "326c2be8-9158-4b02-bbfd-7e496d87fb24",
   "metadata": {},
   "outputs": [
    {
     "name": "stdout",
     "output_type": "stream",
     "text": [
      "Original Series with NaN:\n",
      " 0    1.0\n",
      "1    2.0\n",
      "2    NaN\n",
      "3    4.0\n",
      "4    NaN\n",
      "dtype: float64\n",
      "Is NaN:\n",
      " 0    False\n",
      "1    False\n",
      "2     True\n",
      "3    False\n",
      "4     True\n",
      "dtype: bool\n",
      "Filled NaN with zero:\n",
      " 0    1.0\n",
      "1    2.0\n",
      "2    0.0\n",
      "3    4.0\n",
      "4    0.0\n",
      "dtype: float64\n"
     ]
    }
   ],
   "source": [
    "# Handling missing data\n",
    "s_with_nan = pd.Series([1, 2, np.nan, 4, np.nan])\n",
    "print(\"Original Series with NaN:\\n\", s_with_nan)\n",
    "print(\"Is NaN:\\n\", s_with_nan.isna())\n",
    "print(\"Filled NaN with zero:\\n\", s_with_nan.fillna(0))\n"
   ]
  },
  {
   "cell_type": "code",
   "execution_count": 13,
   "id": "3f91ad5c-8993-41f5-ac0f-349917f31246",
   "metadata": {},
   "outputs": [
    {
     "name": "stdout",
     "output_type": "stream",
     "text": [
      "Concatenated Series:\n",
      " 0     1\n",
      "1     2\n",
      "2     3\n",
      "3     4\n",
      "4     5\n",
      "5     6\n",
      "0    10\n",
      "1    20\n",
      "2    30\n",
      "3    40\n",
      "4    50\n",
      "5     1\n",
      "dtype: int64\n",
      "Concatenated.iloc[0] is 1\n",
      "Concatenated.iloc[6] is 10\n",
      "Sorted Series:\n",
      " 4    50\n",
      "3    40\n",
      "2    30\n",
      "1    20\n",
      "0    10\n",
      "5     6\n",
      "4     5\n",
      "3     4\n",
      "2     3\n",
      "1     2\n",
      "0     1\n",
      "5     1\n",
      "dtype: int64\n",
      "Unique Values in S1: [ 1  2  3  4  5  6 10 20 30 40 50]\n",
      "Value Counts in S1:\n",
      " 1     2\n",
      "2     1\n",
      "3     1\n",
      "4     1\n",
      "5     1\n",
      "6     1\n",
      "10    1\n",
      "20    1\n",
      "30    1\n",
      "40    1\n",
      "50    1\n",
      "Name: count, dtype: int64\n"
     ]
    }
   ],
   "source": [
    "# Other operations\n",
    "s1 = pd.Series([1, 2, 3, 4, 5,6])\n",
    "s2 = pd.Series([10, 20, 30, 40, 50, 1])\n",
    "\n",
    "concatenated = pd.concat([s1, s2])\n",
    "print(\"Concatenated Series:\\n\", concatenated)\n",
    "print(\"Concatenated.iloc[0] is\",concatenated.iloc[0])\n",
    "print(\"Concatenated.iloc[6] is\",concatenated.iloc[6])\n",
    "print(\"Sorted Series:\\n\", concatenated.sort_values(ascending=False))\n",
    "print(\"Unique Values in S1:\", concatenated.unique())\n",
    "print(\"Value Counts in S1:\\n\", concatenated.value_counts())\n"
   ]
  },
  {
   "cell_type": "code",
   "execution_count": 117,
   "id": "ae3a66fa-4519-4234-99cc-253580957b9d",
   "metadata": {},
   "outputs": [
    {
     "name": "stdout",
     "output_type": "stream",
     "text": [
      "Custom Operation with apply():\n",
      " 0    11\n",
      "1     5\n",
      "2     7\n",
      "3     9\n",
      "dtype: int64\n"
     ]
    }
   ],
   "source": [
    "# Custom Functions with apply\n",
    "\n",
    "s1=pd.Series([4,1,2,3])\n",
    "# Custom operation\n",
    "def custom_op(value):\n",
    "    return value * 2 + 3\n",
    "\n",
    "custom_series = s1.apply(custom_op)\n",
    "print(\"Custom Operation with apply():\\n\", custom_series)\n"
   ]
  },
  {
   "cell_type": "code",
   "execution_count": 121,
   "id": "78d00fbb-0f3f-4e0c-967e-9b860d3b70d0",
   "metadata": {},
   "outputs": [
    {
     "name": "stdout",
     "output_type": "stream",
     "text": [
      "Greater than 2:\n",
      " 0     True\n",
      "1    False\n",
      "2    False\n",
      "3     True\n",
      "dtype: bool\n"
     ]
    }
   ],
   "source": [
    "# Logical operations\n",
    "s1=pd.Series([4,1,2,3])\n",
    "greater_than_two = s1 > 2\n",
    "print(\"Greater than 2:\\n\", greater_than_two)\n"
   ]
  },
  {
   "cell_type": "code",
   "execution_count": 285,
   "id": "4895f20a-3fc1-437f-a7f8-4338544ade46",
   "metadata": {},
   "outputs": [
    {
     "name": "stdout",
     "output_type": "stream",
     "text": [
      "    color  object  price\n",
      "0    blue    ball    1.2\n",
      "1   green     pen    1.0\n",
      "2  yellow  pencil    0.6\n",
      "3     red   paper    0.9\n",
      "4   white   paper    1.7\n"
     ]
    }
   ],
   "source": [
    "#  Creating DataFrame From a Dictionary of Lists\n",
    "\n",
    "data = {'color' :  ['blue','green','yellow','red','white'],\n",
    "        'object' : ['ball','pen','pencil','paper','paper'],\n",
    "        'price' :  [1.2,    1.0,    0.6,    0.9,   1.7]\n",
    "       }\n",
    "\n",
    "frame1 = pd.DataFrame(data)\n",
    "print(frame1)"
   ]
  },
  {
   "cell_type": "code",
   "execution_count": 289,
   "id": "b1d23558-2f35-4cd7-a3db-521297901b9f",
   "metadata": {},
   "outputs": [
    {
     "name": "stdout",
     "output_type": "stream",
     "text": [
      "        color  object  price\n",
      "zero     blue    ball    1.2\n",
      "one     green     pen    1.0\n",
      "two    yellow  pencil    0.6\n",
      "three     red   paper    0.9\n",
      "four    white   paper    1.7 \n",
      "\n",
      "frame2.index:\n",
      "Index(['zero', 'one', 'two', 'three', 'four'], dtype='object') \n",
      "\n",
      "frame2.columns:\n",
      "Index(['color', 'object', 'price'], dtype='object') \n",
      "\n",
      "frame2.values:\n",
      "[['blue' 'ball' 1.2]\n",
      " ['green' 'pen' 1.0]\n",
      " ['yellow' 'pencil' 0.6]\n",
      " ['red' 'paper' 0.9]\n",
      " ['white' 'paper' 1.7]] \n",
      "\n",
      "Only price column: using frame2['price']\n",
      "zero     1.2\n",
      "one      1.0\n",
      "two      0.6\n",
      "three    0.9\n",
      "four     1.7\n",
      "Name: price, dtype: float64 \n",
      "\n",
      "        color  object  price\n",
      "zero     blue    ball    1.2\n",
      "one     green     pen    1.0\n",
      "two    yellow  pencil    0.6\n",
      "three     red   paper    0.9\n",
      "four    white   paper    1.7 \n",
      "\n",
      "Row 2: frame2.iloc[2] is\n",
      "color     yellow\n",
      "object    pencil\n",
      "price        0.6\n",
      "Name: two, dtype: object \n",
      "\n",
      "Row 2: frame2.loc['two'] is\n",
      "color     yellow\n",
      "object    pencil\n",
      "price        0.6\n",
      "Name: two, dtype: object \n",
      "\n",
      "Access the row(s) where object is 'paper'using ---frame2[frame2['object'] == 'paper']\n",
      "       color object  price\n",
      "three    red  paper    0.9\n",
      "four   white  paper    1.7 \n",
      "\n",
      "frame2.at['three', 'object'] is paper \n",
      "\n",
      "frame2['object']['three'] is paper \n",
      "\n",
      "frame2[0:1]:\n",
      "     color object  price\n",
      "zero  blue   ball    1.2 \n",
      "\n",
      "frame2[1:3]:\n",
      "      color  object  price\n",
      "one   green     pen    1.0\n",
      "two  yellow  pencil    0.6 \n",
      "\n"
     ]
    }
   ],
   "source": [
    "frame2 = pd.DataFrame(data, index=['zero','one','two','three','four'])\n",
    "print(frame2, \"\\n\")\n",
    "# Selecting Elements\n",
    "print(\"frame2.index:\")\n",
    "print(frame2.index, \"\\n\")\n",
    "print(\"frame2.columns:\")\n",
    "print(frame2.columns, \"\\n\")\n",
    "print(\"frame2.values:\")\n",
    "print(frame2.values , \"\\n\")\n",
    "# display a column\n",
    "print(\"Only price column: using frame2['price']\")\n",
    "print(frame2['price'], \"\\n\")     \n",
    "\n",
    "print(frame2, \"\\n\")\n",
    "\n",
    "# display a row\n",
    "print(\"Row 2: frame2.iloc[2] is\") \n",
    "print(frame2.iloc[2], \"\\n\")   \n",
    "\n",
    "print(\"Row 2: frame2.loc['two'] is\") \n",
    "print(frame2.loc['two'], \"\\n\")\n",
    "\n",
    "# Access the row where object is \"paper\"\n",
    "\n",
    "print(\"Access the row(s) where object is 'paper'using ---frame2[frame2['object'] == 'paper']\")\n",
    "print(frame2[frame2['object'] == 'paper'],\"\\n\")\n",
    "\n",
    "# if you know the index label and column:\n",
    "print(\"frame2.at['three', 'object'] is\", frame2.at['three', 'object'], \"\\n\")\n",
    "\n",
    "\n",
    "print(\"frame2['object']['three'] is\", frame2['object']['three'], \"\\n\")\n",
    "# print(\"frame2['object'][3] is \",frame2['object'][3], \"\\n\")\n",
    "\n",
    "print(\"frame2[0:1]:\")\n",
    "print(frame2[0:1], \"\\n\")\n",
    "\n",
    "print(\"frame2[1:3]:\")\n",
    "print(frame2[1:3], \"\\n\")\n"
   ]
  },
  {
   "cell_type": "code",
   "execution_count": 201,
   "id": "321ffaf8-6874-40f4-bdbf-9d253285f5b5",
   "metadata": {},
   "outputs": [
    {
     "name": "stdout",
     "output_type": "stream",
     "text": [
      "frame2  before:\n",
      "        color  object  price\n",
      "zero     blue    ball    1.2\n",
      "one     green     pen    1.0\n",
      "two    yellow  pencil    0.6\n",
      "three     red   paper    0.9\n",
      "four    white     mug    1.7 \n",
      "\n",
      "frame2  after:\n",
      "item    color  object  price\n",
      "id                          \n",
      "zero     blue    ball    1.2\n",
      "one     green     pen    1.0\n",
      "two    yellow  pencil    0.6\n",
      "three     red   paper    0.9\n",
      "four    white     mug    1.7 \n",
      "\n"
     ]
    }
   ],
   "source": [
    "print(\"frame2  before:\")\n",
    "print(frame2, \"\\n\")\n",
    "frame2.index.name = 'id'; frame2.columns.name = 'item'\n",
    "print(\"frame2  after:\")\n",
    "print(frame2, \"\\n\")"
   ]
  },
  {
   "cell_type": "code",
   "execution_count": 189,
   "id": "548ac4fa-c400-4ec0-a862-c341df2470e9",
   "metadata": {},
   "outputs": [
    {
     "name": "stdout",
     "output_type": "stream",
     "text": [
      "frame2  after adding a new column 'quantity'\n",
      "item    color  object  price  quantity\n",
      "id                                    \n",
      "zero     blue    ball    1.2        10\n",
      "one     green     pen    1.0        20\n",
      "two    yellow  pencil    0.6        30\n",
      "three     red   paper    0.9        40\n",
      "four    white     mug    1.7        50 \n",
      "\n"
     ]
    }
   ],
   "source": [
    "# To add a new column- assigning a value to the instance of the DataFrame specifying a new column name.\n",
    "# Adding a new column 'quantity' with values\n",
    "frame2['quantity'] = [10, 20, 30, 40, 50]\n",
    "print(\"frame2  after adding a new column 'quantity'\")\n",
    "print(frame2, \"\\n\")\n"
   ]
  },
  {
   "cell_type": "code",
   "execution_count": 195,
   "id": "e3715551-2198-4009-bf59-ff26e6780612",
   "metadata": {},
   "outputs": [
    {
     "name": "stdout",
     "output_type": "stream",
     "text": [
      "frame2  after adding a new column 'discount with same value(0.1) for all the rows'\n",
      "item    color  object  price  quantity  discount\n",
      "id                                              \n",
      "zero     blue    ball    1.2        10       0.1\n",
      "one     green     pen    1.0        20       0.1\n",
      "two    yellow  pencil    0.6        30       0.1\n",
      "three     red   paper    0.9        40       0.1\n",
      "four    white     mug    1.7        50       0.1\n"
     ]
    }
   ],
   "source": [
    "# Adding a Column with a Scalar Value:\n",
    "# Adding a new column 'discount' with the same value for all rows\n",
    "print(\"frame2  after adding a new column 'discount with same value(0.1) for all the rows'\")\n",
    "frame2['discount'] = 0.1\n",
    "print(frame2)"
   ]
  },
  {
   "cell_type": "code",
   "execution_count": 197,
   "id": "cc46ec3b-3c81-4506-bde4-73949f7e5ccd",
   "metadata": {},
   "outputs": [
    {
     "name": "stdout",
     "output_type": "stream",
     "text": [
      "item    color  object  price  quantity  discount  total\n",
      "id                                                     \n",
      "zero     blue    ball    1.2        10       0.1   12.0\n",
      "one     green     pen    1.0        20       0.1   20.0\n",
      "two    yellow  pencil    0.6        30       0.1   18.0\n",
      "three     red   paper    0.9        40       0.1   36.0\n",
      "four    white     mug    1.7        50       0.1   85.0\n"
     ]
    }
   ],
   "source": [
    "# Adding a Column 'total' with Values Based on Existing Columns ( price and quantity):\n",
    "frame2['total'] = frame2['price'] * frame2['quantity']\n",
    "print(frame2)"
   ]
  },
  {
   "cell_type": "code",
   "execution_count": 370,
   "id": "951eb527-0388-43c2-bd19-20af4dfcb4ea",
   "metadata": {},
   "outputs": [
    {
     "name": "stdout",
     "output_type": "stream",
     "text": [
      "The series is:\n",
      "zero     0\n",
      "one      1\n",
      "two      2\n",
      "three    3\n",
      "four     4\n",
      "dtype: int32\n",
      "        mug  pen  ball  newCol\n",
      "blue      0    1     2     NaN\n",
      "green     3    4     5     NaN\n",
      "white     6    7     8     NaN\n",
      "yellow    9   10    11     NaN\n"
     ]
    }
   ],
   "source": [
    "# create a series and add it as a column to the dataframe\n",
    "#ser = pd.Series(np.arange(5)) # This will add a column with  all NAN because of index mismatch\n",
    "ser = pd.Series(np.arange(5), index=['zero','one','two','three','four'])\n",
    "print(\"The series is:\")\n",
    "print(ser)\n",
    "frame2['newCol'] = ser \n",
    "print(frame2)"
   ]
  },
  {
   "cell_type": "code",
   "execution_count": 229,
   "id": "3159b054-5cc8-42c0-950e-d0bfd67844d2",
   "metadata": {},
   "outputs": [
    {
     "name": "stdout",
     "output_type": "stream",
     "text": [
      "        ball  pen  pencil  paper\n",
      "red        0    1       2      3\n",
      "blue       4    5       6      7\n",
      "yellow     8    9      10     11\n",
      "white     12   13      14     15\n"
     ]
    }
   ],
   "source": [
    "# creating DataFrame from numpy array\n",
    "ind=['red','blue','yellow','white']\n",
    "cols=['ball','pen','pencil','paper']\n",
    "frame3 = pd.DataFrame(np.arange(16).reshape((4,4)),index=ind, columns=cols)\n",
    "print(frame3)"
   ]
  },
  {
   "cell_type": "code",
   "execution_count": 227,
   "id": "18366fd6-2f91-43f5-91c1-8f9c933852f7",
   "metadata": {},
   "outputs": [
    {
     "name": "stdout",
     "output_type": "stream",
     "text": [
      "item    color  object  price  newCol\n",
      "id                                  \n",
      "zero     blue    ball    1.2       0\n",
      "one     green     pen    1.0       1\n",
      "two    yellow  pencil    0.6       2\n",
      "three     red   paper    0.9       3\n",
      "four    white     mug    1.7       4 \n",
      "\n",
      "item   color  object  price  newCol\n",
      "id                                 \n",
      "zero   False   False  False   False\n",
      "one    False    True   True    True\n",
      "two    False   False   True   False\n",
      "three  False   False  False   False\n",
      "four   False   False  False   False\n"
     ]
    },
    {
     "data": {
      "text/html": [
       "<div>\n",
       "<style scoped>\n",
       "    .dataframe tbody tr th:only-of-type {\n",
       "        vertical-align: middle;\n",
       "    }\n",
       "\n",
       "    .dataframe tbody tr th {\n",
       "        vertical-align: top;\n",
       "    }\n",
       "\n",
       "    .dataframe thead th {\n",
       "        text-align: right;\n",
       "    }\n",
       "</style>\n",
       "<table border=\"1\" class=\"dataframe\">\n",
       "  <thead>\n",
       "    <tr style=\"text-align: right;\">\n",
       "      <th>item</th>\n",
       "      <th>color</th>\n",
       "      <th>object</th>\n",
       "      <th>price</th>\n",
       "      <th>newCol</th>\n",
       "    </tr>\n",
       "    <tr>\n",
       "      <th>id</th>\n",
       "      <th></th>\n",
       "      <th></th>\n",
       "      <th></th>\n",
       "      <th></th>\n",
       "    </tr>\n",
       "  </thead>\n",
       "  <tbody>\n",
       "    <tr>\n",
       "      <th>zero</th>\n",
       "      <td>NaN</td>\n",
       "      <td>NaN</td>\n",
       "      <td>NaN</td>\n",
       "      <td>NaN</td>\n",
       "    </tr>\n",
       "    <tr>\n",
       "      <th>one</th>\n",
       "      <td>NaN</td>\n",
       "      <td>pen</td>\n",
       "      <td>1.0</td>\n",
       "      <td>1.0</td>\n",
       "    </tr>\n",
       "    <tr>\n",
       "      <th>two</th>\n",
       "      <td>NaN</td>\n",
       "      <td>NaN</td>\n",
       "      <td>0.6</td>\n",
       "      <td>NaN</td>\n",
       "    </tr>\n",
       "    <tr>\n",
       "      <th>three</th>\n",
       "      <td>NaN</td>\n",
       "      <td>NaN</td>\n",
       "      <td>NaN</td>\n",
       "      <td>NaN</td>\n",
       "    </tr>\n",
       "    <tr>\n",
       "      <th>four</th>\n",
       "      <td>NaN</td>\n",
       "      <td>NaN</td>\n",
       "      <td>NaN</td>\n",
       "      <td>NaN</td>\n",
       "    </tr>\n",
       "  </tbody>\n",
       "</table>\n",
       "</div>"
      ],
      "text/plain": [
       "item  color object  price  newCol\n",
       "id                               \n",
       "zero    NaN    NaN    NaN     NaN\n",
       "one     NaN    pen    1.0     1.0\n",
       "two     NaN    NaN    0.6     NaN\n",
       "three   NaN    NaN    NaN     NaN\n",
       "four    NaN    NaN    NaN     NaN"
      ]
     },
     "execution_count": 227,
     "metadata": {},
     "output_type": "execute_result"
    }
   ],
   "source": [
    "# Membership of a Value using isin()\n",
    "# The isin() function in Pandas is used to filter a DataFrame by checking whether\n",
    "# each element in a column (or multiple columns) is present in a given list of values.\n",
    "# It returns a Boolean DataFrame or Series that can be used to filter rows.\n",
    "print(frame2, \"\\n\")\n",
    "print(\"frame2.isin([0.6,'pen',1]):\")\n",
    "print(frame2.isin([0.6,'pen',1]))\n",
    "\n",
    "# If you pass the value returned as a condition then you’ll get a new DataFrame \n",
    "# containing only the values that satisfy the condition.\n",
    "print(\"frame2[frame2.isin([0.6,'pen',1])]:\")\n",
    "frame2[frame2.isin([0.6,'pen',1])]\n"
   ]
  },
  {
   "cell_type": "code",
   "execution_count": 231,
   "id": "2dd9d8b5-500f-40b1-b07c-d9bd4c4b6cc6",
   "metadata": {},
   "outputs": [
    {
     "name": "stdout",
     "output_type": "stream",
     "text": [
      "frame2 after deleting a column newCol\n",
      "\n",
      "item    color  object  price\n",
      "id                          \n",
      "zero     blue    ball    1.2\n",
      "one     green     pen    1.0\n",
      "two    yellow  pencil    0.6\n",
      "three     red   paper    0.9\n",
      "four    white     mug    1.7 \n",
      "\n"
     ]
    }
   ],
   "source": [
    "# Deleting a column using del\n",
    "del frame2['newCol']\n",
    "print(\"frame2 after deleting a column newCol\\n\")\n",
    "print(frame2, \"\\n\")"
   ]
  },
  {
   "cell_type": "code",
   "execution_count": 239,
   "id": "515ebbbf-b678-47ed-bb10-599242b21d04",
   "metadata": {},
   "outputs": [
    {
     "name": "stdout",
     "output_type": "stream",
     "text": [
      "   c0  c1  c2  c3\n",
      "0   0   1   2   3\n",
      "1   4   5   6   7\n",
      "2   8   9  10  11\n",
      "3  12  13  14  15 \n",
      "\n"
     ]
    },
    {
     "data": {
      "text/html": [
       "<div>\n",
       "<style scoped>\n",
       "    .dataframe tbody tr th:only-of-type {\n",
       "        vertical-align: middle;\n",
       "    }\n",
       "\n",
       "    .dataframe tbody tr th {\n",
       "        vertical-align: top;\n",
       "    }\n",
       "\n",
       "    .dataframe thead th {\n",
       "        text-align: right;\n",
       "    }\n",
       "</style>\n",
       "<table border=\"1\" class=\"dataframe\">\n",
       "  <thead>\n",
       "    <tr style=\"text-align: right;\">\n",
       "      <th></th>\n",
       "      <th>c0</th>\n",
       "      <th>c1</th>\n",
       "      <th>c2</th>\n",
       "      <th>c3</th>\n",
       "    </tr>\n",
       "  </thead>\n",
       "  <tbody>\n",
       "    <tr>\n",
       "      <th>0</th>\n",
       "      <td>0.0</td>\n",
       "      <td>1.0</td>\n",
       "      <td>2.0</td>\n",
       "      <td>3.0</td>\n",
       "    </tr>\n",
       "    <tr>\n",
       "      <th>1</th>\n",
       "      <td>4.0</td>\n",
       "      <td>5.0</td>\n",
       "      <td>6.0</td>\n",
       "      <td>7.0</td>\n",
       "    </tr>\n",
       "    <tr>\n",
       "      <th>2</th>\n",
       "      <td>8.0</td>\n",
       "      <td>9.0</td>\n",
       "      <td>10.0</td>\n",
       "      <td>11.0</td>\n",
       "    </tr>\n",
       "    <tr>\n",
       "      <th>3</th>\n",
       "      <td>NaN</td>\n",
       "      <td>NaN</td>\n",
       "      <td>NaN</td>\n",
       "      <td>NaN</td>\n",
       "    </tr>\n",
       "  </tbody>\n",
       "</table>\n",
       "</div>"
      ],
      "text/plain": [
       "    c0   c1    c2    c3\n",
       "0  0.0  1.0   2.0   3.0\n",
       "1  4.0  5.0   6.0   7.0\n",
       "2  8.0  9.0  10.0  11.0\n",
       "3  NaN  NaN   NaN   NaN"
      ]
     },
     "execution_count": 239,
     "metadata": {},
     "output_type": "execute_result"
    }
   ],
   "source": [
    "# Filtering: apply the filtering through the application of certain conditions\n",
    "frame=pd.DataFrame(np.arange(16).reshape(4,4), columns=['c0','c1','c2','c3'])\n",
    "print(frame, \"\\n\")\n",
    "\n",
    "frame[frame < 12]"
   ]
  },
  {
   "cell_type": "code",
   "execution_count": 293,
   "id": "f438c056-6886-4918-8238-92dab77c9ec9",
   "metadata": {},
   "outputs": [
    {
     "data": {
      "text/html": [
       "<div>\n",
       "<style scoped>\n",
       "    .dataframe tbody tr th:only-of-type {\n",
       "        vertical-align: middle;\n",
       "    }\n",
       "\n",
       "    .dataframe tbody tr th {\n",
       "        vertical-align: top;\n",
       "    }\n",
       "\n",
       "    .dataframe thead th {\n",
       "        text-align: right;\n",
       "    }\n",
       "</style>\n",
       "<table border=\"1\" class=\"dataframe\">\n",
       "  <thead>\n",
       "    <tr style=\"text-align: right;\">\n",
       "      <th></th>\n",
       "      <th>red</th>\n",
       "      <th>white</th>\n",
       "      <th>blue</th>\n",
       "    </tr>\n",
       "  </thead>\n",
       "  <tbody>\n",
       "    <tr>\n",
       "      <th>2012</th>\n",
       "      <td>22.0</td>\n",
       "      <td>22.0</td>\n",
       "      <td>27.0</td>\n",
       "    </tr>\n",
       "    <tr>\n",
       "      <th>2013</th>\n",
       "      <td>33.0</td>\n",
       "      <td>16.0</td>\n",
       "      <td>18.0</td>\n",
       "    </tr>\n",
       "    <tr>\n",
       "      <th>2014</th>\n",
       "      <td>44.0</td>\n",
       "      <td>NaN</td>\n",
       "      <td>NaN</td>\n",
       "    </tr>\n",
       "    <tr>\n",
       "      <th>2011</th>\n",
       "      <td>NaN</td>\n",
       "      <td>13.0</td>\n",
       "      <td>17.0</td>\n",
       "    </tr>\n",
       "  </tbody>\n",
       "</table>\n",
       "</div>"
      ],
      "text/plain": [
       "       red  white  blue\n",
       "2012  22.0   22.0  27.0\n",
       "2013  33.0   16.0  18.0\n",
       "2014  44.0    NaN   NaN\n",
       "2011   NaN   13.0  17.0"
      ]
     },
     "execution_count": 293,
     "metadata": {},
     "output_type": "execute_result"
    }
   ],
   "source": [
    "# DataFrame from Nested dict\n",
    "# what if not all fields find a successful match,\n",
    "# pandas will compensate for this inconsistency by adding the value NaN values missing. \n",
    "# consider external keys as column names and internal keys as labels for the indexes.\n",
    "nestdict = {'red':{2012: 22, 2013: 33, 2014:44},'white':{2011: 13, 2012: 22, 2013: 16},'blue': {2011: 17, 2012: 27, 2013: 18}}\n",
    "fr = pd.DataFrame(nestdict)\n",
    "fr "
   ]
  },
  {
   "cell_type": "code",
   "execution_count": 257,
   "id": "db8d8590-7ae2-4e0f-a799-be36e1fd156e",
   "metadata": {},
   "outputs": [
    {
     "data": {
      "text/html": [
       "<div>\n",
       "<style scoped>\n",
       "    .dataframe tbody tr th:only-of-type {\n",
       "        vertical-align: middle;\n",
       "    }\n",
       "\n",
       "    .dataframe tbody tr th {\n",
       "        vertical-align: top;\n",
       "    }\n",
       "\n",
       "    .dataframe thead th {\n",
       "        text-align: right;\n",
       "    }\n",
       "</style>\n",
       "<table border=\"1\" class=\"dataframe\">\n",
       "  <thead>\n",
       "    <tr style=\"text-align: right;\">\n",
       "      <th></th>\n",
       "      <th>2012</th>\n",
       "      <th>2013</th>\n",
       "      <th>2014</th>\n",
       "      <th>2011</th>\n",
       "    </tr>\n",
       "  </thead>\n",
       "  <tbody>\n",
       "    <tr>\n",
       "      <th>red</th>\n",
       "      <td>22.0</td>\n",
       "      <td>33.0</td>\n",
       "      <td>44.0</td>\n",
       "      <td>NaN</td>\n",
       "    </tr>\n",
       "    <tr>\n",
       "      <th>white</th>\n",
       "      <td>22.0</td>\n",
       "      <td>16.0</td>\n",
       "      <td>NaN</td>\n",
       "      <td>13.0</td>\n",
       "    </tr>\n",
       "    <tr>\n",
       "      <th>blue</th>\n",
       "      <td>27.0</td>\n",
       "      <td>18.0</td>\n",
       "      <td>NaN</td>\n",
       "      <td>17.0</td>\n",
       "    </tr>\n",
       "  </tbody>\n",
       "</table>\n",
       "</div>"
      ],
      "text/plain": [
       "       2012  2013  2014  2011\n",
       "red    22.0  33.0  44.0   NaN\n",
       "white  22.0  16.0   NaN  13.0\n",
       "blue   27.0  18.0   NaN  17.0"
      ]
     },
     "execution_count": 257,
     "metadata": {},
     "output_type": "execute_result"
    }
   ],
   "source": [
    "# Transposition of a DataFrame (the columns become rows and rows become columns)\n",
    "fr.T"
   ]
  },
  {
   "cell_type": "code",
   "execution_count": 261,
   "id": "aef936a1-ed9d-4e21-902a-c58a440417a5",
   "metadata": {},
   "outputs": [
    {
     "name": "stdout",
     "output_type": "stream",
     "text": [
      "Index(['red', 'blue', 'yellow', 'white', 'green'], dtype='object')\n",
      "blue\n",
      "white\n"
     ]
    }
   ],
   "source": [
    "# The Index Objects: presence of an Index object totally integrated within  Series and the data frame data structures.\n",
    "# Unlike all other elements within pandas data structures (Series and data frame), the Index objects are immutable objects. \n",
    "# Once declared, these cannot be changed. This ensures their secure sharing between the various data structures.\n",
    "ser = pd.Series([5,0,3,8,4], index=['red','blue','yellow','white','green'])\n",
    "print(ser.index)\n",
    "# two functions that return, respectively, the index with the lowest value and more.\n",
    "print(ser.idxmin()) # blue\n",
    "print(ser.idxmax()) # white"
   ]
  },
  {
   "cell_type": "code",
   "execution_count": 295,
   "id": "81c7a452-df09-47cb-9298-1d49e0fa787d",
   "metadata": {},
   "outputs": [
    {
     "name": "stdout",
     "output_type": "stream",
     "text": [
      "white     0\n",
      "white     1\n",
      "blue      2\n",
      "green     3\n",
      "green     4\n",
      "yellow    5\n",
      "dtype: int64\n",
      "white    0\n",
      "white    1\n",
      "dtype: int64\n",
      "whether serd.index.is_unique is unique? found using serd.index.is_unique False\n"
     ]
    },
    {
     "data": {
      "text/plain": [
       "True"
      ]
     },
     "execution_count": 295,
     "metadata": {},
     "output_type": "execute_result"
    }
   ],
   "source": [
    "# Index with Duplicate Labels\n",
    "serd = pd.Series(range(6), index=['white','white','blue','green','green','yellow'])\n",
    "print(serd)\n",
    "print(serd['white'])\n",
    "print(\"whether serd.index.is_unique is unique? found using serd.index.is_unique\",serd.index.is_unique)  # False\n",
    "frame.index.is_unique # True"
   ]
  },
  {
   "cell_type": "code",
   "execution_count": 279,
   "id": "ab067850-780f-4245-ab76-ab094ca62fc8",
   "metadata": {},
   "outputs": [
    {
     "name": "stdout",
     "output_type": "stream",
     "text": [
      "one      2\n",
      "two      5\n",
      "three    7\n",
      "four     4\n",
      "dtype: int64 \n",
      "\n",
      "three    7.0\n",
      "four     4.0\n",
      "five     NaN\n",
      "one      2.0\n",
      "dtype: float64 \n",
      "\n",
      "one      2\n",
      "two      5\n",
      "three    7\n",
      "four     4\n",
      "dtype: int64\n"
     ]
    }
   ],
   "source": [
    "# Other Functionalities on Indexes ( Reindexing)\n",
    "ser = pd.Series([2,5,7,4], index=['one','two','three','four'])\n",
    "print(ser, \"\\n\")\n",
    "print(ser.reindex(['three','four','five','one']), \"\\n\")\n",
    "print(ser)"
   ]
  },
  {
   "cell_type": "code",
   "execution_count": 35,
   "id": "f20903f1-299c-4862-80e6-214833390b67",
   "metadata": {},
   "outputs": [
    {
     "name": "stdout",
     "output_type": "stream",
     "text": [
      "   ID   Name  Age\n",
      "0   1  Alice   24\n",
      "1   2    Bob   27\n",
      "2   3  Chris   22\n"
     ]
    }
   ],
   "source": [
    "# From a List of Dictionaries\n",
    "\n",
    "# List of dictionaries\n",
    "data_list_dict = [\n",
    "    {'ID': 1, 'Name': 'Alice', 'Age': 24},\n",
    "    {'ID': 2, 'Name': 'Bob', 'Age': 27},\n",
    "    {'ID': 3, 'Name': 'Chris', 'Age': 22}\n",
    "]\n",
    "\n",
    "# Create DataFrame\n",
    "df_list_dict = pd.DataFrame(data_list_dict)\n",
    "print(df_list_dict)\n",
    "\n"
   ]
  },
  {
   "cell_type": "code",
   "execution_count": 337,
   "id": "ea133691-50fc-4c3c-86e5-7b4c0e87171a",
   "metadata": {},
   "outputs": [
    {
     "data": {
      "text/plain": [
       "red       0.0\n",
       "blue      1.0\n",
       "yellow    2.0\n",
       "white     3.0\n",
       "dtype: float64"
      ]
     },
     "execution_count": 337,
     "metadata": {},
     "output_type": "execute_result"
    }
   ],
   "source": [
    "# dropping: Another operation that is connected to Index objects is dropping\n",
    "ser = pd.Series(np.arange(4.), index=['red','blue','yellow','white'])\n",
    "ser"
   ]
  },
  {
   "cell_type": "code",
   "execution_count": 339,
   "id": "5c0ede67-1e33-4e33-bf48-e7f6710fc354",
   "metadata": {},
   "outputs": [
    {
     "data": {
      "text/plain": [
       "red      0.0\n",
       "blue     1.0\n",
       "white    3.0\n",
       "dtype: float64"
      ]
     },
     "execution_count": 339,
     "metadata": {},
     "output_type": "execute_result"
    }
   ],
   "source": [
    "ser.drop('yellow')"
   ]
  },
  {
   "cell_type": "code",
   "execution_count": 341,
   "id": "fee53a6f-dd41-4834-a658-10a78e884256",
   "metadata": {},
   "outputs": [
    {
     "name": "stdout",
     "output_type": "stream",
     "text": [
      "The series is\n",
      "red       0.0\n",
      "blue      1.0\n",
      "yellow    2.0\n",
      "white     3.0\n",
      "dtype: float64 \n",
      "\n",
      "After dropping blue and white\n"
     ]
    },
    {
     "data": {
      "text/plain": [
       "red       0.0\n",
       "yellow    2.0\n",
       "dtype: float64"
      ]
     },
     "execution_count": 341,
     "metadata": {},
     "output_type": "execute_result"
    }
   ],
   "source": [
    "print(\"The series is\")\n",
    "print(ser,\"\\n\")\n",
    "print(\"After dropping blue and white\")\n",
    "ser.drop(['blue','white'])"
   ]
  },
  {
   "cell_type": "code",
   "execution_count": 13,
   "id": "284e14be-761c-42ff-924e-945b566696fc",
   "metadata": {},
   "outputs": [
    {
     "name": "stdout",
     "output_type": "stream",
     "text": [
      "        ball  pen  pencil  paper\n",
      "red        0    1       2      3\n",
      "blue       4    5       6      7\n",
      "yellow     8    9      10     11\n",
      "white     12   13      14     15\n",
      "\n",
      "frame after dropping 2 rows blue and yellow using frame.drop(['blue','yellow'])\n",
      "       ball  pen  pencil  paper\n",
      "red       0    1       2      3\n",
      "white    12   13      14     15\n",
      "\n",
      "frame after dropping 2 columns pen and pencil using frame.drop(['pen','pencil'],axis=1)\n"
     ]
    },
    {
     "data": {
      "text/html": [
       "<div>\n",
       "<style scoped>\n",
       "    .dataframe tbody tr th:only-of-type {\n",
       "        vertical-align: middle;\n",
       "    }\n",
       "\n",
       "    .dataframe tbody tr th {\n",
       "        vertical-align: top;\n",
       "    }\n",
       "\n",
       "    .dataframe thead th {\n",
       "        text-align: right;\n",
       "    }\n",
       "</style>\n",
       "<table border=\"1\" class=\"dataframe\">\n",
       "  <thead>\n",
       "    <tr style=\"text-align: right;\">\n",
       "      <th></th>\n",
       "      <th>ball</th>\n",
       "      <th>paper</th>\n",
       "    </tr>\n",
       "  </thead>\n",
       "  <tbody>\n",
       "    <tr>\n",
       "      <th>red</th>\n",
       "      <td>0</td>\n",
       "      <td>3</td>\n",
       "    </tr>\n",
       "    <tr>\n",
       "      <th>blue</th>\n",
       "      <td>4</td>\n",
       "      <td>7</td>\n",
       "    </tr>\n",
       "    <tr>\n",
       "      <th>yellow</th>\n",
       "      <td>8</td>\n",
       "      <td>11</td>\n",
       "    </tr>\n",
       "    <tr>\n",
       "      <th>white</th>\n",
       "      <td>12</td>\n",
       "      <td>15</td>\n",
       "    </tr>\n",
       "  </tbody>\n",
       "</table>\n",
       "</div>"
      ],
      "text/plain": [
       "        ball  paper\n",
       "red        0      3\n",
       "blue       4      7\n",
       "yellow     8     11\n",
       "white     12     15"
      ]
     },
     "execution_count": 13,
     "metadata": {},
     "output_type": "execute_result"
    }
   ],
   "source": [
    "# use drop() on dataframe\n",
    "import numpy as np\n",
    "frame = pd.DataFrame(np.arange(16).reshape((4,4)),index=['red','blue','yellow','white'], columns=['ball','pen','pencil','paper'])\n",
    "print(frame)\n",
    "print(\"\\nframe after dropping 2 rows blue and yellow using frame.drop(['blue','yellow'])\")\n",
    "print(frame.drop(['blue','yellow']))\n",
    "\n",
    "# To delete columns, you always need to specify the indexes of the columns, but you must specify the\n",
    "# axis from which to delete the elements\n",
    "\n",
    "print(\"\\nframe after dropping 2 columns pen and pencil using frame.drop(['pen','pencil'],axis=1)\")\n",
    "frame.drop(['pen','pencil'],axis=1) # So to refer to the column names you should specify axis = 1.\n"
   ]
  },
  {
   "cell_type": "code",
   "execution_count": 321,
   "id": "d0c10fc3-8418-48e2-a07c-dc930807c048",
   "metadata": {},
   "outputs": [
    {
     "data": {
      "text/plain": [
       "black     NaN\n",
       "blue      3.0\n",
       "brown     NaN\n",
       "green     NaN\n",
       "white     4.0\n",
       "yellow    6.0\n",
       "dtype: float64"
      ]
     },
     "execution_count": 321,
     "metadata": {},
     "output_type": "execute_result"
    }
   ],
   "source": [
    "# Arithmetic and Data Alignment\n",
    "# some labels are present in both, while other labels are present only in one of the two.\n",
    "# When the labels are present in both operators, their values will be added, while in the opposite case,\n",
    "# they will also be shown in the result (new series), but with the value NaN.\n",
    "s1 = pd.Series([3,2,5,1],['white','yellow','green','blue'])\n",
    "s2 = pd.Series([1,4,7,2,1],['white','yellow','black','blue','brown'])\n",
    "s1 + s2"
   ]
  },
  {
   "cell_type": "code",
   "execution_count": 327,
   "id": "a31a218d-4ba8-45a0-9805-782975a85144",
   "metadata": {},
   "outputs": [
    {
     "name": "stdout",
     "output_type": "stream",
     "text": [
      "        ball  pen  pencil  paper\n",
      "red        0    1       2      3\n",
      "blue       4    5       6      7\n",
      "yellow     8    9      10     11\n",
      "white     12   13      14     15\n",
      "        mug  pen  ball\n",
      "blue      0    1     2\n",
      "green     3    4     5\n",
      "white     6    7     8\n",
      "yellow    9   10    11\n"
     ]
    },
    {
     "data": {
      "text/html": [
       "<div>\n",
       "<style scoped>\n",
       "    .dataframe tbody tr th:only-of-type {\n",
       "        vertical-align: middle;\n",
       "    }\n",
       "\n",
       "    .dataframe tbody tr th {\n",
       "        vertical-align: top;\n",
       "    }\n",
       "\n",
       "    .dataframe thead th {\n",
       "        text-align: right;\n",
       "    }\n",
       "</style>\n",
       "<table border=\"1\" class=\"dataframe\">\n",
       "  <thead>\n",
       "    <tr style=\"text-align: right;\">\n",
       "      <th></th>\n",
       "      <th>ball</th>\n",
       "      <th>mug</th>\n",
       "      <th>paper</th>\n",
       "      <th>pen</th>\n",
       "      <th>pencil</th>\n",
       "    </tr>\n",
       "  </thead>\n",
       "  <tbody>\n",
       "    <tr>\n",
       "      <th>blue</th>\n",
       "      <td>6.0</td>\n",
       "      <td>NaN</td>\n",
       "      <td>NaN</td>\n",
       "      <td>6.0</td>\n",
       "      <td>NaN</td>\n",
       "    </tr>\n",
       "    <tr>\n",
       "      <th>green</th>\n",
       "      <td>NaN</td>\n",
       "      <td>NaN</td>\n",
       "      <td>NaN</td>\n",
       "      <td>NaN</td>\n",
       "      <td>NaN</td>\n",
       "    </tr>\n",
       "    <tr>\n",
       "      <th>red</th>\n",
       "      <td>NaN</td>\n",
       "      <td>NaN</td>\n",
       "      <td>NaN</td>\n",
       "      <td>NaN</td>\n",
       "      <td>NaN</td>\n",
       "    </tr>\n",
       "    <tr>\n",
       "      <th>white</th>\n",
       "      <td>20.0</td>\n",
       "      <td>NaN</td>\n",
       "      <td>NaN</td>\n",
       "      <td>20.0</td>\n",
       "      <td>NaN</td>\n",
       "    </tr>\n",
       "    <tr>\n",
       "      <th>yellow</th>\n",
       "      <td>19.0</td>\n",
       "      <td>NaN</td>\n",
       "      <td>NaN</td>\n",
       "      <td>19.0</td>\n",
       "      <td>NaN</td>\n",
       "    </tr>\n",
       "  </tbody>\n",
       "</table>\n",
       "</div>"
      ],
      "text/plain": [
       "        ball  mug  paper   pen  pencil\n",
       "blue     6.0  NaN    NaN   6.0     NaN\n",
       "green    NaN  NaN    NaN   NaN     NaN\n",
       "red      NaN  NaN    NaN   NaN     NaN\n",
       "white   20.0  NaN    NaN  20.0     NaN\n",
       "yellow  19.0  NaN    NaN  19.0     NaN"
      ]
     },
     "execution_count": 327,
     "metadata": {},
     "output_type": "execute_result"
    }
   ],
   "source": [
    "frame1 = pd.DataFrame(np.arange(16).reshape((4,4)),index=['red','blue','yellow','white'],columns=['ball','pen','pencil','paper'])\n",
    "frame2 = pd.DataFrame(np.arange(12).reshape((4,3)), index=['blue','green','white','yellow'],columns=['mug','pen','ball'])\n",
    "print(frame1)\n",
    "print(frame2)\n",
    "frame1 + frame2"
   ]
  },
  {
   "cell_type": "code",
   "execution_count": 329,
   "id": "99cfcae5-3997-4186-8a08-d310e05a19e9",
   "metadata": {},
   "outputs": [
    {
     "data": {
      "text/html": [
       "<div>\n",
       "<style scoped>\n",
       "    .dataframe tbody tr th:only-of-type {\n",
       "        vertical-align: middle;\n",
       "    }\n",
       "\n",
       "    .dataframe tbody tr th {\n",
       "        vertical-align: top;\n",
       "    }\n",
       "\n",
       "    .dataframe thead th {\n",
       "        text-align: right;\n",
       "    }\n",
       "</style>\n",
       "<table border=\"1\" class=\"dataframe\">\n",
       "  <thead>\n",
       "    <tr style=\"text-align: right;\">\n",
       "      <th></th>\n",
       "      <th>ball</th>\n",
       "      <th>mug</th>\n",
       "      <th>paper</th>\n",
       "      <th>pen</th>\n",
       "      <th>pencil</th>\n",
       "    </tr>\n",
       "  </thead>\n",
       "  <tbody>\n",
       "    <tr>\n",
       "      <th>blue</th>\n",
       "      <td>6.0</td>\n",
       "      <td>NaN</td>\n",
       "      <td>NaN</td>\n",
       "      <td>6.0</td>\n",
       "      <td>NaN</td>\n",
       "    </tr>\n",
       "    <tr>\n",
       "      <th>green</th>\n",
       "      <td>NaN</td>\n",
       "      <td>NaN</td>\n",
       "      <td>NaN</td>\n",
       "      <td>NaN</td>\n",
       "      <td>NaN</td>\n",
       "    </tr>\n",
       "    <tr>\n",
       "      <th>red</th>\n",
       "      <td>NaN</td>\n",
       "      <td>NaN</td>\n",
       "      <td>NaN</td>\n",
       "      <td>NaN</td>\n",
       "      <td>NaN</td>\n",
       "    </tr>\n",
       "    <tr>\n",
       "      <th>white</th>\n",
       "      <td>20.0</td>\n",
       "      <td>NaN</td>\n",
       "      <td>NaN</td>\n",
       "      <td>20.0</td>\n",
       "      <td>NaN</td>\n",
       "    </tr>\n",
       "    <tr>\n",
       "      <th>yellow</th>\n",
       "      <td>19.0</td>\n",
       "      <td>NaN</td>\n",
       "      <td>NaN</td>\n",
       "      <td>19.0</td>\n",
       "      <td>NaN</td>\n",
       "    </tr>\n",
       "  </tbody>\n",
       "</table>\n",
       "</div>"
      ],
      "text/plain": [
       "        ball  mug  paper   pen  pencil\n",
       "blue     6.0  NaN    NaN   6.0     NaN\n",
       "green    NaN  NaN    NaN   NaN     NaN\n",
       "red      NaN  NaN    NaN   NaN     NaN\n",
       "white   20.0  NaN    NaN  20.0     NaN\n",
       "yellow  19.0  NaN    NaN  19.0     NaN"
      ]
     },
     "execution_count": 329,
     "metadata": {},
     "output_type": "execute_result"
    }
   ],
   "source": [
    "# Operations between Data Structures, Flexible Arithmetic Methods\n",
    "frame1.add(frame2)"
   ]
  },
  {
   "cell_type": "code",
   "execution_count": 11,
   "id": "308128b9-12ca-408d-b20a-7b334bd7d26c",
   "metadata": {},
   "outputs": [
    {
     "name": "stdout",
     "output_type": "stream",
     "text": [
      "        ball  pen  pencil  paper\n",
      "red        0    1       2      3\n",
      "blue       4    5       6      7\n",
      "yellow     8    9      10     11\n",
      "white     12   13      14     15\n",
      "\n",
      "\n",
      "ball      0\n",
      "pen       1\n",
      "pencil    2\n",
      "paper     3\n",
      "dtype: int32\n"
     ]
    },
    {
     "data": {
      "text/html": [
       "<div>\n",
       "<style scoped>\n",
       "    .dataframe tbody tr th:only-of-type {\n",
       "        vertical-align: middle;\n",
       "    }\n",
       "\n",
       "    .dataframe tbody tr th {\n",
       "        vertical-align: top;\n",
       "    }\n",
       "\n",
       "    .dataframe thead th {\n",
       "        text-align: right;\n",
       "    }\n",
       "</style>\n",
       "<table border=\"1\" class=\"dataframe\">\n",
       "  <thead>\n",
       "    <tr style=\"text-align: right;\">\n",
       "      <th></th>\n",
       "      <th>ball</th>\n",
       "      <th>pen</th>\n",
       "      <th>pencil</th>\n",
       "      <th>paper</th>\n",
       "    </tr>\n",
       "  </thead>\n",
       "  <tbody>\n",
       "    <tr>\n",
       "      <th>red</th>\n",
       "      <td>0</td>\n",
       "      <td>0</td>\n",
       "      <td>0</td>\n",
       "      <td>0</td>\n",
       "    </tr>\n",
       "    <tr>\n",
       "      <th>blue</th>\n",
       "      <td>4</td>\n",
       "      <td>4</td>\n",
       "      <td>4</td>\n",
       "      <td>4</td>\n",
       "    </tr>\n",
       "    <tr>\n",
       "      <th>yellow</th>\n",
       "      <td>8</td>\n",
       "      <td>8</td>\n",
       "      <td>8</td>\n",
       "      <td>8</td>\n",
       "    </tr>\n",
       "    <tr>\n",
       "      <th>white</th>\n",
       "      <td>12</td>\n",
       "      <td>12</td>\n",
       "      <td>12</td>\n",
       "      <td>12</td>\n",
       "    </tr>\n",
       "  </tbody>\n",
       "</table>\n",
       "</div>"
      ],
      "text/plain": [
       "        ball  pen  pencil  paper\n",
       "red        0    0       0      0\n",
       "blue       4    4       4      4\n",
       "yellow     8    8       8      8\n",
       "white     12   12      12     12"
      ]
     },
     "execution_count": 11,
     "metadata": {},
     "output_type": "execute_result"
    }
   ],
   "source": [
    "# Operations between DataFrame and Series\n",
    "import pandas as pd\n",
    "import numpy as np\n",
    "frame = pd.DataFrame(np.arange(16).reshape((4,4)),index=['red','blue','yellow','white'],columns=['ball','pen','pencil','paper'])\n",
    "print(frame)\n",
    "print(\"\\n\")\n",
    "ser = pd.Series(np.arange(4), index=['ball','pen','pencil','paper'])\n",
    "print(ser)\n",
    "# the elements of the series are subtracted from the values of the data frame corresponding to the same index on the column\n",
    "# The value is subtracted for all values of the column,regardless of their index.\n",
    "frame - ser"
   ]
  },
  {
   "cell_type": "code",
   "execution_count": 360,
   "id": "23a45ac8-5610-45fd-8a32-6342ae3df728",
   "metadata": {},
   "outputs": [
    {
     "data": {
      "text/plain": [
       "ball      0\n",
       "pen       1\n",
       "pencil    2\n",
       "paper     3\n",
       "mug       9\n",
       "dtype: int32"
      ]
     },
     "execution_count": 360,
     "metadata": {},
     "output_type": "execute_result"
    }
   ],
   "source": [
    "ser['mug'] = 9\n",
    "ser"
   ]
  },
  {
   "cell_type": "code",
   "execution_count": 364,
   "id": "f8642298-6588-43bd-987b-8532d4641741",
   "metadata": {},
   "outputs": [
    {
     "data": {
      "text/html": [
       "<div>\n",
       "<style scoped>\n",
       "    .dataframe tbody tr th:only-of-type {\n",
       "        vertical-align: middle;\n",
       "    }\n",
       "\n",
       "    .dataframe tbody tr th {\n",
       "        vertical-align: top;\n",
       "    }\n",
       "\n",
       "    .dataframe thead th {\n",
       "        text-align: right;\n",
       "    }\n",
       "</style>\n",
       "<table border=\"1\" class=\"dataframe\">\n",
       "  <thead>\n",
       "    <tr style=\"text-align: right;\">\n",
       "      <th></th>\n",
       "      <th>ball</th>\n",
       "      <th>mug</th>\n",
       "      <th>paper</th>\n",
       "      <th>pen</th>\n",
       "      <th>pencil</th>\n",
       "    </tr>\n",
       "  </thead>\n",
       "  <tbody>\n",
       "    <tr>\n",
       "      <th>red</th>\n",
       "      <td>0</td>\n",
       "      <td>NaN</td>\n",
       "      <td>0</td>\n",
       "      <td>0</td>\n",
       "      <td>0</td>\n",
       "    </tr>\n",
       "    <tr>\n",
       "      <th>blue</th>\n",
       "      <td>4</td>\n",
       "      <td>NaN</td>\n",
       "      <td>4</td>\n",
       "      <td>4</td>\n",
       "      <td>4</td>\n",
       "    </tr>\n",
       "    <tr>\n",
       "      <th>yellow</th>\n",
       "      <td>8</td>\n",
       "      <td>NaN</td>\n",
       "      <td>8</td>\n",
       "      <td>8</td>\n",
       "      <td>8</td>\n",
       "    </tr>\n",
       "    <tr>\n",
       "      <th>white</th>\n",
       "      <td>12</td>\n",
       "      <td>NaN</td>\n",
       "      <td>12</td>\n",
       "      <td>12</td>\n",
       "      <td>12</td>\n",
       "    </tr>\n",
       "  </tbody>\n",
       "</table>\n",
       "</div>"
      ],
      "text/plain": [
       "        ball  mug  paper  pen  pencil\n",
       "red        0  NaN      0    0       0\n",
       "blue       4  NaN      4    4       4\n",
       "yellow     8  NaN      8    8       8\n",
       "white     12  NaN     12   12      12"
      ]
     },
     "execution_count": 364,
     "metadata": {},
     "output_type": "execute_result"
    }
   ],
   "source": [
    "frame - ser"
   ]
  },
  {
   "cell_type": "code",
   "execution_count": 374,
   "id": "6b054e59-78c0-43a5-a3df-eca4b80d06d0",
   "metadata": {},
   "outputs": [
    {
     "name": "stdout",
     "output_type": "stream",
     "text": [
      "        ball  pen  pencil  paper\n",
      "red        0    1       2      3\n",
      "blue       4    5       6      7\n",
      "yellow     8    9      10     11\n",
      "white     12   13      14     15\n"
     ]
    },
    {
     "data": {
      "text/html": [
       "<div>\n",
       "<style scoped>\n",
       "    .dataframe tbody tr th:only-of-type {\n",
       "        vertical-align: middle;\n",
       "    }\n",
       "\n",
       "    .dataframe tbody tr th {\n",
       "        vertical-align: top;\n",
       "    }\n",
       "\n",
       "    .dataframe thead th {\n",
       "        text-align: right;\n",
       "    }\n",
       "</style>\n",
       "<table border=\"1\" class=\"dataframe\">\n",
       "  <thead>\n",
       "    <tr style=\"text-align: right;\">\n",
       "      <th></th>\n",
       "      <th>ball</th>\n",
       "      <th>pen</th>\n",
       "      <th>pencil</th>\n",
       "      <th>paper</th>\n",
       "    </tr>\n",
       "  </thead>\n",
       "  <tbody>\n",
       "    <tr>\n",
       "      <th>red</th>\n",
       "      <td>0.000000</td>\n",
       "      <td>1.000000</td>\n",
       "      <td>1.414214</td>\n",
       "      <td>1.732051</td>\n",
       "    </tr>\n",
       "    <tr>\n",
       "      <th>blue</th>\n",
       "      <td>2.000000</td>\n",
       "      <td>2.236068</td>\n",
       "      <td>2.449490</td>\n",
       "      <td>2.645751</td>\n",
       "    </tr>\n",
       "    <tr>\n",
       "      <th>yellow</th>\n",
       "      <td>2.828427</td>\n",
       "      <td>3.000000</td>\n",
       "      <td>3.162278</td>\n",
       "      <td>3.316625</td>\n",
       "    </tr>\n",
       "    <tr>\n",
       "      <th>white</th>\n",
       "      <td>3.464102</td>\n",
       "      <td>3.605551</td>\n",
       "      <td>3.741657</td>\n",
       "      <td>3.872983</td>\n",
       "    </tr>\n",
       "  </tbody>\n",
       "</table>\n",
       "</div>"
      ],
      "text/plain": [
       "            ball       pen    pencil     paper\n",
       "red     0.000000  1.000000  1.414214  1.732051\n",
       "blue    2.000000  2.236068  2.449490  2.645751\n",
       "yellow  2.828427  3.000000  3.162278  3.316625\n",
       "white   3.464102  3.605551  3.741657  3.872983"
      ]
     },
     "execution_count": 374,
     "metadata": {},
     "output_type": "execute_result"
    }
   ],
   "source": [
    "# Function Application and Mapping\n",
    "print(frame)\n",
    "np.sqrt(frame)"
   ]
  },
  {
   "cell_type": "code",
   "execution_count": 31,
   "id": "6f9becb6-45a1-4e81-9e1f-47217e064c57",
   "metadata": {},
   "outputs": [
    {
     "name": "stdout",
     "output_type": "stream",
     "text": [
      "        ball  pen  pencil  paper\n",
      "red       63    7       8      6\n",
      "blue       6   17      45      2\n",
      "yellow    53    1      92      3\n",
      "white     66   23      92     37\n",
      "\n",
      "apply() function applied on columns using print(frame.apply(f))\n",
      "ball      60\n",
      "pen       22\n",
      "pencil    84\n",
      "paper     35\n",
      "dtype: int64\n",
      "\n",
      "apply() function applied on rows using print(frame.apply(f,axis=1))\n"
     ]
    },
    {
     "data": {
      "text/plain": [
       "red       57\n",
       "blue      43\n",
       "yellow    91\n",
       "white     69\n",
       "dtype: int64"
      ]
     },
     "execution_count": 31,
     "metadata": {},
     "output_type": "execute_result"
    }
   ],
   "source": [
    "# Functions by Row or Column\n",
    "#define a lambda function that calculates the range covered by the elements in an array\n",
    "frame=pd.DataFrame(np.array([[63,7,8,6],[6,17,45,2],[53,1,92,3],[66,23,92,37]]), index=['red','blue','yellow', 'white'], columns=['ball','pen','pencil','paper'])\n",
    "print(frame)\n",
    "#f = lambda x: x.max() - x.min()\n",
    "\n",
    "def f(x):\n",
    "    return x.max() - x.min()\n",
    "\n",
    "# Using the apply( ) function you can apply the function just defined on the DataFrame.\n",
    "print(\"\\napply() function applied on columns using print(frame.apply(f))\");\n",
    "print(frame.apply(f))\n",
    "# The result, however, this time it is only one value for the column, but if you prefer to apply the function\n",
    "# by row instead of by column, you have to specify the axis option set to 1.\n",
    "print(\"\\napply() function applied on rows using print(frame.apply(f,axis=1))\");\n",
    "frame.apply(f, axis=1)\n"
   ]
  },
  {
   "cell_type": "code",
   "execution_count": 25,
   "id": "e7aeb525-e712-4398-a651-bce03ed655f2",
   "metadata": {},
   "outputs": [
    {
     "data": {
      "text/html": [
       "<div>\n",
       "<style scoped>\n",
       "    .dataframe tbody tr th:only-of-type {\n",
       "        vertical-align: middle;\n",
       "    }\n",
       "\n",
       "    .dataframe tbody tr th {\n",
       "        vertical-align: top;\n",
       "    }\n",
       "\n",
       "    .dataframe thead th {\n",
       "        text-align: right;\n",
       "    }\n",
       "</style>\n",
       "<table border=\"1\" class=\"dataframe\">\n",
       "  <thead>\n",
       "    <tr style=\"text-align: right;\">\n",
       "      <th></th>\n",
       "      <th>ball</th>\n",
       "      <th>pen</th>\n",
       "      <th>pencil</th>\n",
       "      <th>paper</th>\n",
       "    </tr>\n",
       "  </thead>\n",
       "  <tbody>\n",
       "    <tr>\n",
       "      <th>min</th>\n",
       "      <td>0</td>\n",
       "      <td>1</td>\n",
       "      <td>2</td>\n",
       "      <td>3</td>\n",
       "    </tr>\n",
       "    <tr>\n",
       "      <th>max</th>\n",
       "      <td>12</td>\n",
       "      <td>13</td>\n",
       "      <td>14</td>\n",
       "      <td>15</td>\n",
       "    </tr>\n",
       "  </tbody>\n",
       "</table>\n",
       "</div>"
      ],
      "text/plain": [
       "     ball  pen  pencil  paper\n",
       "min     0    1       2      3\n",
       "max    12   13      14     15"
      ]
     },
     "execution_count": 25,
     "metadata": {},
     "output_type": "execute_result"
    }
   ],
   "source": [
    "# apply( )  can also return a Series (applied on column\n",
    "def f(x):\n",
    "    return pd.Series([x.min(), x.max()], index=['min','max'])\n",
    "frame.apply(f)"
   ]
  },
  {
   "cell_type": "code",
   "execution_count": 400,
   "id": "8610c351-82fa-4622-932f-15b51a737a69",
   "metadata": {},
   "outputs": [
    {
     "name": "stdout",
     "output_type": "stream",
     "text": [
      "        ball  pen  pencil  paper\n",
      "red        0    1       2      3\n",
      "blue       4    5       6      7\n",
      "yellow     8    9      10     11\n",
      "white     12   13      14     15 \n",
      "\n",
      "Sum of columns:\n",
      "ball      24\n",
      "pen       28\n",
      "pencil    32\n",
      "paper     36\n",
      "dtype: int64 \n",
      "\n",
      "Mean of columns:\n",
      "ball      6.0\n",
      "pen       7.0\n",
      "pencil    8.0\n",
      "paper     9.0\n",
      "dtype: float64 \n",
      "\n"
     ]
    },
    {
     "data": {
      "text/html": [
       "<div>\n",
       "<style scoped>\n",
       "    .dataframe tbody tr th:only-of-type {\n",
       "        vertical-align: middle;\n",
       "    }\n",
       "\n",
       "    .dataframe tbody tr th {\n",
       "        vertical-align: top;\n",
       "    }\n",
       "\n",
       "    .dataframe thead th {\n",
       "        text-align: right;\n",
       "    }\n",
       "</style>\n",
       "<table border=\"1\" class=\"dataframe\">\n",
       "  <thead>\n",
       "    <tr style=\"text-align: right;\">\n",
       "      <th></th>\n",
       "      <th>ball</th>\n",
       "      <th>pen</th>\n",
       "      <th>pencil</th>\n",
       "      <th>paper</th>\n",
       "    </tr>\n",
       "  </thead>\n",
       "  <tbody>\n",
       "    <tr>\n",
       "      <th>count</th>\n",
       "      <td>4.000000</td>\n",
       "      <td>4.000000</td>\n",
       "      <td>4.000000</td>\n",
       "      <td>4.000000</td>\n",
       "    </tr>\n",
       "    <tr>\n",
       "      <th>mean</th>\n",
       "      <td>6.000000</td>\n",
       "      <td>7.000000</td>\n",
       "      <td>8.000000</td>\n",
       "      <td>9.000000</td>\n",
       "    </tr>\n",
       "    <tr>\n",
       "      <th>std</th>\n",
       "      <td>5.163978</td>\n",
       "      <td>5.163978</td>\n",
       "      <td>5.163978</td>\n",
       "      <td>5.163978</td>\n",
       "    </tr>\n",
       "    <tr>\n",
       "      <th>min</th>\n",
       "      <td>0.000000</td>\n",
       "      <td>1.000000</td>\n",
       "      <td>2.000000</td>\n",
       "      <td>3.000000</td>\n",
       "    </tr>\n",
       "    <tr>\n",
       "      <th>25%</th>\n",
       "      <td>3.000000</td>\n",
       "      <td>4.000000</td>\n",
       "      <td>5.000000</td>\n",
       "      <td>6.000000</td>\n",
       "    </tr>\n",
       "    <tr>\n",
       "      <th>50%</th>\n",
       "      <td>6.000000</td>\n",
       "      <td>7.000000</td>\n",
       "      <td>8.000000</td>\n",
       "      <td>9.000000</td>\n",
       "    </tr>\n",
       "    <tr>\n",
       "      <th>75%</th>\n",
       "      <td>9.000000</td>\n",
       "      <td>10.000000</td>\n",
       "      <td>11.000000</td>\n",
       "      <td>12.000000</td>\n",
       "    </tr>\n",
       "    <tr>\n",
       "      <th>max</th>\n",
       "      <td>12.000000</td>\n",
       "      <td>13.000000</td>\n",
       "      <td>14.000000</td>\n",
       "      <td>15.000000</td>\n",
       "    </tr>\n",
       "  </tbody>\n",
       "</table>\n",
       "</div>"
      ],
      "text/plain": [
       "            ball        pen     pencil      paper\n",
       "count   4.000000   4.000000   4.000000   4.000000\n",
       "mean    6.000000   7.000000   8.000000   9.000000\n",
       "std     5.163978   5.163978   5.163978   5.163978\n",
       "min     0.000000   1.000000   2.000000   3.000000\n",
       "25%     3.000000   4.000000   5.000000   6.000000\n",
       "50%     6.000000   7.000000   8.000000   9.000000\n",
       "75%     9.000000  10.000000  11.000000  12.000000\n",
       "max    12.000000  13.000000  14.000000  15.000000"
      ]
     },
     "execution_count": 400,
     "metadata": {},
     "output_type": "execute_result"
    }
   ],
   "source": [
    "print(frame,\"\\n\")\n",
    "print(\"Sum of columns:\")\n",
    "print(frame.sum(),\"\\n\")\n",
    "print(\"Mean of columns:\")\n",
    "print(frame.mean(),\"\\n\")\n",
    "frame.describe( ) # allows to obtain a summary statistics at once."
   ]
  },
  {
   "cell_type": "code",
   "execution_count": 33,
   "id": "25f8a3a9-2d25-46f0-ac72-2cb2cd95b39a",
   "metadata": {},
   "outputs": [
    {
     "name": "stdout",
     "output_type": "stream",
     "text": [
      "3.0\n",
      "9.0\n"
     ]
    }
   ],
   "source": [
    "import pandas as pd\n",
    "\n",
    "# Example DataFrame\n",
    "df = pd.DataFrame({'ball': [0, 4, 8, 12]})\n",
    "\n",
    "# Using different interpolation methods to see the effects\n",
    "print(df['ball'].quantile(0.25, interpolation='linear'))\n",
    "print(df['ball'].quantile(0.75, interpolation='linear'))\n"
   ]
  },
  {
   "cell_type": "code",
   "execution_count": 17,
   "id": "b2a189d3-b196-4d11-89df-c05c8b52a6a6",
   "metadata": {},
   "outputs": [
    {
     "name": "stdout",
     "output_type": "stream",
     "text": [
      "frame\n",
      "        pen  pencil  paper  ball\n",
      "red      11      22     33    44\n",
      "blue      3       8      2     9\n",
      "yellow    1       2      3     4\n",
      "white     1      45     21    49 \n",
      "\n",
      "frame after frame.sort_index():, sorts index\n",
      "        pen  pencil  paper  ball\n",
      "blue      3       8      2     9\n",
      "red      11      22     33    44\n",
      "white     1      45     21    49\n",
      "yellow    1       2      3     4 \n",
      "\n",
      "frame after frame.sort_index() with axis=1\n"
     ]
    },
    {
     "data": {
      "text/html": [
       "<div>\n",
       "<style scoped>\n",
       "    .dataframe tbody tr th:only-of-type {\n",
       "        vertical-align: middle;\n",
       "    }\n",
       "\n",
       "    .dataframe tbody tr th {\n",
       "        vertical-align: top;\n",
       "    }\n",
       "\n",
       "    .dataframe thead th {\n",
       "        text-align: right;\n",
       "    }\n",
       "</style>\n",
       "<table border=\"1\" class=\"dataframe\">\n",
       "  <thead>\n",
       "    <tr style=\"text-align: right;\">\n",
       "      <th></th>\n",
       "      <th>ball</th>\n",
       "      <th>paper</th>\n",
       "      <th>pen</th>\n",
       "      <th>pencil</th>\n",
       "    </tr>\n",
       "  </thead>\n",
       "  <tbody>\n",
       "    <tr>\n",
       "      <th>red</th>\n",
       "      <td>44</td>\n",
       "      <td>33</td>\n",
       "      <td>11</td>\n",
       "      <td>22</td>\n",
       "    </tr>\n",
       "    <tr>\n",
       "      <th>blue</th>\n",
       "      <td>9</td>\n",
       "      <td>2</td>\n",
       "      <td>3</td>\n",
       "      <td>8</td>\n",
       "    </tr>\n",
       "    <tr>\n",
       "      <th>yellow</th>\n",
       "      <td>4</td>\n",
       "      <td>3</td>\n",
       "      <td>1</td>\n",
       "      <td>2</td>\n",
       "    </tr>\n",
       "    <tr>\n",
       "      <th>white</th>\n",
       "      <td>49</td>\n",
       "      <td>21</td>\n",
       "      <td>1</td>\n",
       "      <td>45</td>\n",
       "    </tr>\n",
       "  </tbody>\n",
       "</table>\n",
       "</div>"
      ],
      "text/plain": [
       "        ball  paper  pen  pencil\n",
       "red       44     33   11      22\n",
       "blue       9      2    3       8\n",
       "yellow     4      3    1       2\n",
       "white     49     21    1      45"
      ]
     },
     "execution_count": 17,
     "metadata": {},
     "output_type": "execute_result"
    }
   ],
   "source": [
    "frame = pd.DataFrame(np.array([[11,22,33,44],[3,8,2,9],[1,2,3,4],[1,45,21,49]]),index=['red','blue','yellow','white'], columns=['pen','pencil','paper','ball'])\n",
    "print(\"frame\")\n",
    "print(frame,\"\\n\")\n",
    "print(\"frame after frame.sort_index():, sorts inde\")\n",
    "print(frame.sort_index(),\"\\n\")\n",
    "print(\"frame after frame.sort_index() with axis=1\")\n",
    "frame.sort_index(axis=1)\n"
   ]
  },
  {
   "cell_type": "code",
   "execution_count": 40,
   "id": "bb39cfd1-e17e-4b3c-a7cc-43d9b121842c",
   "metadata": {},
   "outputs": [
    {
     "name": "stdout",
     "output_type": "stream",
     "text": [
      "   ball  pen  pencil  paper\n",
      "0     0    5       2      3\n",
      "1     4    1       6      7\n",
      "2     8   13      10     11\n",
      "3    12    9      14     15 \n",
      "\n",
      "DataFrame after sort by the 'pen' column:\n",
      "   ball  pen  pencil  paper\n",
      "1     4    1       6      7\n",
      "0     0    5       2      3\n",
      "3    12    9      14     15\n",
      "2     8   13      10     11\n"
     ]
    }
   ],
   "source": [
    "#If you need to order the values in a DataFrame, you will use the sort_index( ) function seen previously but with the by option.\n",
    "import pandas as pd\n",
    "\n",
    "# Example DataFrame\n",
    "frame = pd.DataFrame({\n",
    "    'ball': [0, 4, 8, 12],\n",
    "    'pen': [5, 1, 13, 9],\n",
    "    'pencil': [2, 6, 10, 14],\n",
    "    'paper': [3, 7, 11, 15]\n",
    "})\n",
    "print(frame,\"\\n\")\n",
    "\n",
    "# Sort DataFrame by the 'pen' column\n",
    "print(\"DataFrame after sort by the 'pen' column:\")\n",
    "sorted_frame = frame.sort_values(by='pen')\n",
    "\n",
    "print(sorted_frame)\n"
   ]
  },
  {
   "cell_type": "code",
   "execution_count": 42,
   "id": "1c72d6dc-321a-469f-8527-29bc5dbd332c",
   "metadata": {},
   "outputs": [
    {
     "name": "stdout",
     "output_type": "stream",
     "text": [
      "   ball  pen  pencil  paper\n",
      "0    12   13      14     15\n",
      "1     0   13      10      3\n",
      "2     8    5       6     11\n",
      "3     4    5      12      7\n",
      "   ball  pen  pencil  paper\n",
      "2     8    5       6     11\n",
      "3     4    5      12      7\n",
      "0    12   13      14     15\n",
      "1     0   13      10      3 \n",
      "\n"
     ]
    },
    {
     "data": {
      "text/html": [
       "<div>\n",
       "<style scoped>\n",
       "    .dataframe tbody tr th:only-of-type {\n",
       "        vertical-align: middle;\n",
       "    }\n",
       "\n",
       "    .dataframe tbody tr th {\n",
       "        vertical-align: top;\n",
       "    }\n",
       "\n",
       "    .dataframe thead th {\n",
       "        text-align: right;\n",
       "    }\n",
       "</style>\n",
       "<table border=\"1\" class=\"dataframe\">\n",
       "  <thead>\n",
       "    <tr style=\"text-align: right;\">\n",
       "      <th></th>\n",
       "      <th>ball</th>\n",
       "      <th>pen</th>\n",
       "      <th>pencil</th>\n",
       "      <th>paper</th>\n",
       "    </tr>\n",
       "  </thead>\n",
       "  <tbody>\n",
       "    <tr>\n",
       "      <th>2</th>\n",
       "      <td>8</td>\n",
       "      <td>5</td>\n",
       "      <td>6</td>\n",
       "      <td>11</td>\n",
       "    </tr>\n",
       "    <tr>\n",
       "      <th>3</th>\n",
       "      <td>4</td>\n",
       "      <td>5</td>\n",
       "      <td>12</td>\n",
       "      <td>7</td>\n",
       "    </tr>\n",
       "    <tr>\n",
       "      <th>1</th>\n",
       "      <td>0</td>\n",
       "      <td>13</td>\n",
       "      <td>10</td>\n",
       "      <td>3</td>\n",
       "    </tr>\n",
       "    <tr>\n",
       "      <th>0</th>\n",
       "      <td>12</td>\n",
       "      <td>13</td>\n",
       "      <td>14</td>\n",
       "      <td>15</td>\n",
       "    </tr>\n",
       "  </tbody>\n",
       "</table>\n",
       "</div>"
      ],
      "text/plain": [
       "   ball  pen  pencil  paper\n",
       "2     8    5       6     11\n",
       "3     4    5      12      7\n",
       "1     0   13      10      3\n",
       "0    12   13      14     15"
      ]
     },
     "execution_count": 42,
     "metadata": {},
     "output_type": "execute_result"
    }
   ],
   "source": [
    "#sorting will be based on two or more columns\n",
    "import pandas as pd\n",
    "\n",
    "import pandas as pd\n",
    "\n",
    "# Create a DataFrame with some tied 'pen' values\n",
    "frame = pd.DataFrame({\n",
    "    'ball': [12, 0, 8, 4],\n",
    "    'pen': [13, 13, 5, 5],\n",
    "    'pencil': [14, 10, 6, 12],\n",
    "    'paper': [15, 3, 11, 7]\n",
    "})\n",
    "\n",
    "print(frame)\n",
    "print(frame.sort_values(by='pen'),\"\\n\")\n",
    "# Primary Sort Key: 'pen' (Sort rows first based on this column)\n",
    "frame.sort_values(by=['pen','pencil'])"
   ]
  },
  {
   "cell_type": "code",
   "execution_count": 44,
   "id": "8448903d-a02c-437f-9832-405d8941d203",
   "metadata": {},
   "outputs": [
    {
     "name": "stdout",
     "output_type": "stream",
     "text": [
      "   id  value1  value2  value3\n",
      "0   1     123     1.4      23\n",
      "1   2     110     0.5      18\n",
      "2   3     164     2.1      19\n"
     ]
    }
   ],
   "source": [
    "# Pandas can directly create a DataFrame from a CSV file using read_csv() method.\n",
    "\n",
    "# Assuming 'data.csv' is in the current directory with the appropriate columns\n",
    "df_csv = pd.read_csv('data.csv')\n",
    "print(df_csv)"
   ]
  },
  {
   "cell_type": "code",
   "execution_count": 46,
   "id": "d1f2bee7-e473-4f79-918f-c5acc7e07870",
   "metadata": {},
   "outputs": [
    {
     "name": "stdout",
     "output_type": "stream",
     "text": [
      "red       5\n",
      "blue      0\n",
      "yellow    3\n",
      "white     8\n",
      "green     4\n",
      "dtype: int64 \n",
      "\n",
      "series after ser.sort_values()\n",
      "blue      0\n",
      "yellow    3\n",
      "green     4\n",
      "red       5\n",
      "white     8\n",
      "dtype: int64 \n",
      "\n",
      "series after ser.rank() \n",
      "red       4.0\n",
      "blue      1.0\n",
      "yellow    2.0\n",
      "white     5.0\n",
      "green     3.0\n",
      "dtype: float64\n",
      "series after ser.rank(method='first') \n"
     ]
    },
    {
     "data": {
      "text/plain": [
       "red       4.0\n",
       "blue      1.0\n",
       "yellow    2.0\n",
       "white     5.0\n",
       "green     3.0\n",
       "dtype: float64"
      ]
     },
     "execution_count": 46,
     "metadata": {},
     "output_type": "execute_result"
    }
   ],
   "source": [
    "# Ranking\n",
    "ser = pd.Series([5,0,3,8,4], index=['red','blue','yellow','white','green'])\n",
    "print(ser,\"\\n\")\n",
    "print(\"series after ser.sort_values()\")\n",
    "# ser.order() deprecated\n",
    "print(ser.sort_values(),\"\\n\")\n",
    "print(\"series after ser.rank() \")\n",
    "print(ser.rank())\n",
    "print(\"series after ser.rank(method='first') \")\n",
    "ser.rank(method='first')\n"
   ]
  },
  {
   "cell_type": "code",
   "execution_count": 90,
   "id": "2a53b9bf-0d16-4751-9e61-5a6bfb9ab5e6",
   "metadata": {},
   "outputs": [
    {
     "name": "stdout",
     "output_type": "stream",
     "text": [
      "0    7\n",
      "1    5\n",
      "2    5\n",
      "3    8\n",
      "dtype: int64 \n",
      "\n",
      "series after ser.rank()\n",
      "\n",
      "0    3.0\n",
      "1    1.5\n",
      "2    1.5\n",
      "3    4.0\n",
      "dtype: float64\n",
      "series after ser.rank(method='first') \n",
      "\n",
      "0    3.0\n",
      "1    1.0\n",
      "2    2.0\n",
      "3    4.0\n",
      "dtype: float64 \n",
      "\n",
      " Series after ser.rank(ascending=False)\n",
      "0    2.0\n",
      "1    3.5\n",
      "2    3.5\n",
      "3    1.0\n",
      "dtype: float64\n",
      " Series after ser.rank(ascending=False, method='first')\n",
      "0    2.0\n",
      "1    3.0\n",
      "2    4.0\n",
      "3    1.0\n",
      "dtype: float64\n"
     ]
    }
   ],
   "source": [
    "import pandas as pd\n",
    "# When you call the rank() method without specifying a method, Pandas defaults to method='average'\n",
    "ser = pd.Series([7, 5, 5, 8]) # the order of 5 is 1 and next 5 is 2  , the avg is (1+2)/2=1.5\n",
    "print(ser,\"\\n\")\n",
    "print(\"series after ser.rank()\\n\")\n",
    "ranks = ser.rank()\n",
    "print(ranks)\n",
    "# Ties are broken based on the order in which they appear in the data.\n",
    "print(\"series after ser.rank(method='first') \\n\")\n",
    "print(ser.rank(method='first'),\"\\n\")\n",
    "\n",
    "# By default, even the ranking follows an ascending sort. To reverse this criterion, set the ascending option to False.\n",
    "print(\" Series after ser.rank(ascending=False)\")\n",
    "print(ser.rank(ascending=False))\n",
    "print(\" Series after ser.rank(ascending=False, method='first')\")\n",
    "print(ser.rank(ascending=False,method='first'))\n"
   ]
  },
  {
   "cell_type": "code",
   "execution_count": 100,
   "id": "83598709-9045-4bf4-8db6-96d610905bd7",
   "metadata": {},
   "outputs": [
    {
     "name": "stdout",
     "output_type": "stream",
     "text": [
      "Correlation:  0.7745966692414835\n",
      "Covariance:   0.8571428571428571\n"
     ]
    }
   ],
   "source": [
    "#  Correlation and Covariance\n",
    "# Correlation values range between -1 and +1:\n",
    "# Correlation: indicates how two variables behave together—that is, whether they tend to increase together, decrease together, or show no pattern \n",
    "seq2 = pd.Series([3,4,3,4,5,4,3,2],['2006','2007','2008','2009','2010','2011','2012','2013'])\n",
    "seq = pd.Series([1,2,3,4,4,3,2,1],['2006','2007','2008','2009','2010','2011','2012','2013'])\n",
    "print(\"Correlation: \",seq.corr(seq2)) \n",
    "\n",
    "print(\"Covariance:  \",seq.cov(seq2)  )"
   ]
  },
  {
   "cell_type": "code",
   "execution_count": 112,
   "id": "1ed2a104-6422-41f2-a1f8-ef415e3f8c1e",
   "metadata": {},
   "outputs": [
    {
     "name": "stdout",
     "output_type": "stream",
     "text": [
      "        ball  pen  pencil  paper\n",
      "red        1    4       3      6\n",
      "blue       4    5       6      1\n",
      "yellow     3    3       1      5\n",
      "white      4    1       6      4\n",
      "            ball       pen    pencil     paper\n",
      "ball    1.000000 -0.276026  0.577350 -0.763763\n",
      "pen    -0.276026  1.000000 -0.079682 -0.361403\n",
      "pencil  0.577350 -0.079682  1.000000 -0.692935\n",
      "paper  -0.763763 -0.361403 -0.692935  1.000000\n"
     ]
    },
    {
     "data": {
      "text/html": [
       "<div>\n",
       "<style scoped>\n",
       "    .dataframe tbody tr th:only-of-type {\n",
       "        vertical-align: middle;\n",
       "    }\n",
       "\n",
       "    .dataframe tbody tr th {\n",
       "        vertical-align: top;\n",
       "    }\n",
       "\n",
       "    .dataframe thead th {\n",
       "        text-align: right;\n",
       "    }\n",
       "</style>\n",
       "<table border=\"1\" class=\"dataframe\">\n",
       "  <thead>\n",
       "    <tr style=\"text-align: right;\">\n",
       "      <th></th>\n",
       "      <th>ball</th>\n",
       "      <th>pen</th>\n",
       "      <th>pencil</th>\n",
       "      <th>paper</th>\n",
       "    </tr>\n",
       "  </thead>\n",
       "  <tbody>\n",
       "    <tr>\n",
       "      <th>ball</th>\n",
       "      <td>2.000000</td>\n",
       "      <td>-0.666667</td>\n",
       "      <td>2.000000</td>\n",
       "      <td>-2.333333</td>\n",
       "    </tr>\n",
       "    <tr>\n",
       "      <th>pen</th>\n",
       "      <td>-0.666667</td>\n",
       "      <td>2.916667</td>\n",
       "      <td>-0.333333</td>\n",
       "      <td>-1.333333</td>\n",
       "    </tr>\n",
       "    <tr>\n",
       "      <th>pencil</th>\n",
       "      <td>2.000000</td>\n",
       "      <td>-0.333333</td>\n",
       "      <td>6.000000</td>\n",
       "      <td>-3.666667</td>\n",
       "    </tr>\n",
       "    <tr>\n",
       "      <th>paper</th>\n",
       "      <td>-2.333333</td>\n",
       "      <td>-1.333333</td>\n",
       "      <td>-3.666667</td>\n",
       "      <td>4.666667</td>\n",
       "    </tr>\n",
       "  </tbody>\n",
       "</table>\n",
       "</div>"
      ],
      "text/plain": [
       "            ball       pen    pencil     paper\n",
       "ball    2.000000 -0.666667  2.000000 -2.333333\n",
       "pen    -0.666667  2.916667 -0.333333 -1.333333\n",
       "pencil  2.000000 -0.333333  6.000000 -3.666667\n",
       "paper  -2.333333 -1.333333 -3.666667  4.666667"
      ]
     },
     "execution_count": 112,
     "metadata": {},
     "output_type": "execute_result"
    }
   ],
   "source": [
    "# covariance and correlation are applied to a single DataFrame\n",
    "import pandas as pd\n",
    "frame2 = pd.DataFrame([[1,4,3,6],[4,5,6,1],[3,3,1,5],[4,1,6,4]], index=['red','blue','yellow','white'],columns=['ball','pen','pencil','paper'])\n",
    "print(frame2)\n",
    "print(frame2.corr())\n",
    "frame2.cov()\n"
   ]
  },
  {
   "cell_type": "code",
   "execution_count": 90,
   "id": "2eda8744-c507-4142-9ec0-bd086a1f1cda",
   "metadata": {},
   "outputs": [
    {
     "name": "stdout",
     "output_type": "stream",
     "text": [
      "white  up       0.311611\n",
      "       down     0.929862\n",
      "       right    0.365807\n",
      "blue   up       0.750327\n",
      "       down     0.256312\n",
      "red    up       0.812639\n",
      "       down     0.901609\n",
      "       left     0.615956\n",
      "dtype: float64 \n",
      "\n",
      "Accessing the value at (white, up) using mser['white', 'up'] 0.31161070027170745 \n",
      "\n",
      "fetch all 'down' entries across 'white', 'blue', 'red' using mser.loc[:, 'down']\n",
      "\n",
      "mser.index\n",
      "MultiIndex([('white',    'up'),\n",
      "            ('white',  'down'),\n",
      "            ('white', 'right'),\n",
      "            ( 'blue',    'up'),\n",
      "            ( 'blue',  'down'),\n",
      "            (  'red',    'up'),\n",
      "            (  'red',  'down'),\n",
      "            (  'red',  'left')],\n",
      "           ) \n",
      "\n",
      "\n",
      "mser.index.levels\n",
      "[['blue', 'red', 'white'], ['down', 'left', 'right', 'up']] \n",
      "\n",
      "\n",
      "mser.index.codes: This gives the integer codes that represent the position of each label in the corresponding level\n",
      "[[2, 2, 2, 0, 0, 1, 1, 1], [3, 0, 2, 3, 0, 3, 0, 1]] \n",
      "\n",
      "mser.index.get_level_values(0)\n",
      "Index(['white', 'white', 'white', 'blue', 'blue', 'red', 'red', 'red'], dtype='object')\n"
     ]
    }
   ],
   "source": [
    "# Hierarchical Indexing and Leveling\n",
    "\n",
    "mser = pd.Series(np.random.rand(8), index=[['white','white','white','blue','blue','red','red','red'],\n",
    "['up','down','right','up','down','up','down','left']])\n",
    "print(mser,\"\\n\")\n",
    "\n",
    "# Accessing the value at (white, up)\n",
    "\n",
    "value = mser['white', 'up']\n",
    "print(\"Accessing the value at (white, up) using mser['white', 'up']\",value,\"\\n\")\n",
    "\n",
    "# Slicing all 'white' entries\n",
    "white_values = mser['white']\n",
    "\n",
    "# Cross-section access at a lower level across multiple upper levels\n",
    "print(\"fetch all 'down' entries across 'white', 'blue', 'red' using mser.loc[:, 'down']\")\n",
    "down_values = mser.loc[:, 'down']  # This will fetch all 'down' entries across 'white', 'blue', 'red'\n",
    "print(\"\\nmser.index\")\n",
    "print(mser.index,\"\\n\")\n",
    "print(\"\\nmser.index.levels\")\n",
    "print(mser.index.levels,\"\\n\")\n",
    "print(\"\\nmser.index.codes: This gives the integer codes that represent the position of each label in the corresponding level\")\n",
    "print(mser.index.codes,\"\\n\")\n",
    "print(\"mser.index.get_level_values(0)\")\n",
    "print(mser.index.get_level_values(0))"
   ]
  },
  {
   "cell_type": "code",
   "execution_count": 92,
   "id": "89b6b660-7d42-451e-9bea-a62d79119eae",
   "metadata": {},
   "outputs": [
    {
     "data": {
      "text/html": [
       "<div>\n",
       "<style scoped>\n",
       "    .dataframe tbody tr th:only-of-type {\n",
       "        vertical-align: middle;\n",
       "    }\n",
       "\n",
       "    .dataframe tbody tr th {\n",
       "        vertical-align: top;\n",
       "    }\n",
       "\n",
       "    .dataframe thead tr th {\n",
       "        text-align: left;\n",
       "    }\n",
       "</style>\n",
       "<table border=\"1\" class=\"dataframe\">\n",
       "  <thead>\n",
       "    <tr>\n",
       "      <th></th>\n",
       "      <th></th>\n",
       "      <th colspan=\"2\" halign=\"left\">pen</th>\n",
       "      <th colspan=\"2\" halign=\"left\">paper</th>\n",
       "    </tr>\n",
       "    <tr>\n",
       "      <th></th>\n",
       "      <th></th>\n",
       "      <th>1</th>\n",
       "      <th>2</th>\n",
       "      <th>1</th>\n",
       "      <th>2</th>\n",
       "    </tr>\n",
       "  </thead>\n",
       "  <tbody>\n",
       "    <tr>\n",
       "      <th rowspan=\"2\" valign=\"top\">white</th>\n",
       "      <th>up</th>\n",
       "      <td>0.730600</td>\n",
       "      <td>0.867602</td>\n",
       "      <td>-0.243466</td>\n",
       "      <td>1.684347</td>\n",
       "    </tr>\n",
       "    <tr>\n",
       "      <th>down</th>\n",
       "      <td>1.103726</td>\n",
       "      <td>-0.989485</td>\n",
       "      <td>1.021561</td>\n",
       "      <td>-0.161414</td>\n",
       "    </tr>\n",
       "    <tr>\n",
       "      <th rowspan=\"2\" valign=\"top\">red</th>\n",
       "      <th>up</th>\n",
       "      <td>0.980246</td>\n",
       "      <td>-1.005305</td>\n",
       "      <td>1.511690</td>\n",
       "      <td>1.271966</td>\n",
       "    </tr>\n",
       "    <tr>\n",
       "      <th>down</th>\n",
       "      <td>-2.050680</td>\n",
       "      <td>-0.641727</td>\n",
       "      <td>0.052567</td>\n",
       "      <td>3.095284</td>\n",
       "    </tr>\n",
       "  </tbody>\n",
       "</table>\n",
       "</div>"
      ],
      "text/plain": [
       "                 pen               paper          \n",
       "                   1         2         1         2\n",
       "white up    0.730600  0.867602 -0.243466  1.684347\n",
       "      down  1.103726 -0.989485  1.021561 -0.161414\n",
       "red   up    0.980246 -1.005305  1.511690  1.271966\n",
       "      down -2.050680 -0.641727  0.052567  3.095284"
      ]
     },
     "execution_count": 92,
     "metadata": {},
     "output_type": "execute_result"
    }
   ],
   "source": [
    "# It is possible to define a hierarchical index both for the rows and for the columns\n",
    "mframe = pd.DataFrame(np.random.randn(16).reshape(4,4),index=[['white','white','red','red'], ['up','down','up','down']],\n",
    "columns=[['pen','pen','paper','paper'],[1,2,1,2]])\n",
    "mframe "
   ]
  },
  {
   "cell_type": "code",
   "execution_count": null,
   "id": "45307ff3-1bf8-4485-8b57-df85c92f21f2",
   "metadata": {},
   "outputs": [],
   "source": []
  },
  {
   "cell_type": "code",
   "execution_count": null,
   "id": "cbeef839-c725-4063-86f1-2512ed7ba417",
   "metadata": {},
   "outputs": [],
   "source": [
    "mframe.swaplevel('colors','status')"
   ]
  },
  {
   "cell_type": "code",
   "execution_count": 94,
   "id": "79d5897d-2acf-4f8d-872e-8e0ada011cf2",
   "metadata": {},
   "outputs": [
    {
     "data": {
      "text/html": [
       "<div>\n",
       "<style scoped>\n",
       "    .dataframe tbody tr th:only-of-type {\n",
       "        vertical-align: middle;\n",
       "    }\n",
       "\n",
       "    .dataframe tbody tr th {\n",
       "        vertical-align: top;\n",
       "    }\n",
       "\n",
       "    .dataframe thead tr th {\n",
       "        text-align: left;\n",
       "    }\n",
       "\n",
       "    .dataframe thead tr:last-of-type th {\n",
       "        text-align: right;\n",
       "    }\n",
       "</style>\n",
       "<table border=\"1\" class=\"dataframe\">\n",
       "  <thead>\n",
       "    <tr>\n",
       "      <th></th>\n",
       "      <th>objects</th>\n",
       "      <th colspan=\"2\" halign=\"left\">pen</th>\n",
       "      <th colspan=\"2\" halign=\"left\">paper</th>\n",
       "    </tr>\n",
       "    <tr>\n",
       "      <th></th>\n",
       "      <th>id</th>\n",
       "      <th>1</th>\n",
       "      <th>2</th>\n",
       "      <th>1</th>\n",
       "      <th>2</th>\n",
       "    </tr>\n",
       "    <tr>\n",
       "      <th>colors</th>\n",
       "      <th>status</th>\n",
       "      <th></th>\n",
       "      <th></th>\n",
       "      <th></th>\n",
       "      <th></th>\n",
       "    </tr>\n",
       "  </thead>\n",
       "  <tbody>\n",
       "    <tr>\n",
       "      <th rowspan=\"2\" valign=\"top\">white</th>\n",
       "      <th>up</th>\n",
       "      <td>0.730600</td>\n",
       "      <td>0.867602</td>\n",
       "      <td>-0.243466</td>\n",
       "      <td>1.684347</td>\n",
       "    </tr>\n",
       "    <tr>\n",
       "      <th>down</th>\n",
       "      <td>1.103726</td>\n",
       "      <td>-0.989485</td>\n",
       "      <td>1.021561</td>\n",
       "      <td>-0.161414</td>\n",
       "    </tr>\n",
       "    <tr>\n",
       "      <th rowspan=\"2\" valign=\"top\">red</th>\n",
       "      <th>up</th>\n",
       "      <td>0.980246</td>\n",
       "      <td>-1.005305</td>\n",
       "      <td>1.511690</td>\n",
       "      <td>1.271966</td>\n",
       "    </tr>\n",
       "    <tr>\n",
       "      <th>down</th>\n",
       "      <td>-2.050680</td>\n",
       "      <td>-0.641727</td>\n",
       "      <td>0.052567</td>\n",
       "      <td>3.095284</td>\n",
       "    </tr>\n",
       "  </tbody>\n",
       "</table>\n",
       "</div>"
      ],
      "text/plain": [
       "objects             pen               paper          \n",
       "id                    1         2         1         2\n",
       "colors status                                        \n",
       "white  up      0.730600  0.867602 -0.243466  1.684347\n",
       "       down    1.103726 -0.989485  1.021561 -0.161414\n",
       "red    up      0.980246 -1.005305  1.511690  1.271966\n",
       "       down   -2.050680 -0.641727  0.052567  3.095284"
      ]
     },
     "execution_count": 94,
     "metadata": {},
     "output_type": "execute_result"
    }
   ],
   "source": [
    "# Reordering and Sorting Levels: The swaplevel( ) function accepts as argument the names assigned to the two levels that you want to\n",
    "# interchange, and returns a new object with the two levels interchanged between them, while leaving the data unmodified.\n",
    "mframe.columns.names = ['objects','id']\n",
    "mframe.index.names = ['colors','status']\n",
    "mframe"
   ]
  },
  {
   "cell_type": "code",
   "execution_count": 54,
   "id": "cef4136c-2c10-4183-a439-659047a80c51",
   "metadata": {},
   "outputs": [
    {
     "name": "stdout",
     "output_type": "stream",
     "text": [
      "white  up       0.299859\n",
      "       down     0.410532\n",
      "       right    0.204315\n",
      "blue   up       0.103503\n",
      "       down     0.902083\n",
      "red    up       0.521199\n",
      "       down     0.125277\n",
      "       left     0.181494\n",
      "dtype: float64\n",
      "Output of mser.unstack(): converts the Series with hierarchical index in a simple DataFrame\n",
      "           down      left     right        up\n",
      "blue   0.902083       NaN       NaN  0.103503\n",
      "red    0.125277  0.181494       NaN  0.521199\n",
      "white  0.410532       NaN  0.204315  0.299859\n"
     ]
    }
   ],
   "source": [
    "# series.unstack():converts the Series with hierarchical index in a simple DataFrame,\n",
    "#where the second set of indexes is converted into a new set of columns.\n",
    "\n",
    "mser = pd.Series(np.random.rand(8), index=[['white','white','white','blue','blue','red','red','red'],['up','down','right','up','down','up','down','left']])\n",
    "print(mser)\n",
    "print(\"Output of mser.unstack(): converts the Series with hierarchical index in a simple DataFrame\")\n",
    "print(mser.unstack())\n"
   ]
  },
  {
   "cell_type": "code",
   "execution_count": 58,
   "id": "f450f390-645a-4f4f-9813-4204601ef383",
   "metadata": {},
   "outputs": [
    {
     "name": "stdout",
     "output_type": "stream",
     "text": [
      "        ball  pen  pencil  paper\n",
      "red        0    1       2      3\n",
      "blue       4    5       6      7\n",
      "yellow     8    9      10     11\n",
      "white     12   13      14     15\n"
     ]
    },
    {
     "data": {
      "text/plain": [
       "red     ball       0\n",
       "        pen        1\n",
       "        pencil     2\n",
       "        paper      3\n",
       "blue    ball       4\n",
       "        pen        5\n",
       "        pencil     6\n",
       "        paper      7\n",
       "yellow  ball       8\n",
       "        pen        9\n",
       "        pencil    10\n",
       "        paper     11\n",
       "white   ball      12\n",
       "        pen       13\n",
       "        pencil    14\n",
       "        paper     15\n",
       "dtype: int32"
      ]
     },
     "execution_count": 58,
     "metadata": {},
     "output_type": "execute_result"
    }
   ],
   "source": [
    "# Convert a DataFrame in to a  Series\n",
    "\n",
    "# Create a DataFrame with some tied 'pen' values\n",
    "\n",
    "frame = pd.DataFrame(np.arange(16).reshape((4,4)), index=['red','blue','yellow','white'],columns=['ball','pen','pencil','paper'])\n",
    "\n",
    "print(frame)\n",
    "frame.stack()   "
   ]
  },
  {
   "cell_type": "code",
   "execution_count": 106,
   "id": "19aa96eb-e252-414e-9134-79f04babcc17",
   "metadata": {},
   "outputs": [
    {
     "name": "stdout",
     "output_type": "stream",
     "text": [
      "                 pen               paper          \n",
      "                   1         2         1         2\n",
      "white up   -0.333599 -0.912782  0.686864  0.525352\n",
      "      down -0.154492 -0.457602 -2.057285  0.178246\n",
      "red   up   -1.383538  0.625260  0.288143 -0.001251\n",
      "      down  0.815578 -0.538156  0.566645 -0.776186\n",
      "objects             pen               paper          \n",
      "id                    1         2         1         2\n",
      "colors status                                        \n",
      "white  up     -0.333599 -0.912782  0.686864  0.525352\n",
      "       down   -0.154492 -0.457602 -2.057285  0.178246\n",
      "red    up     -1.383538  0.625260  0.288143 -0.001251\n",
      "       down    0.815578 -0.538156  0.566645 -0.776186\n",
      "objects             pen               paper          \n",
      "id                    1         2         1         2\n",
      "status colors                                        \n",
      "up     white  -0.333599 -0.912782  0.686864  0.525352\n",
      "down   white  -0.154492 -0.457602 -2.057285  0.178246\n",
      "up     red    -1.383538  0.625260  0.288143 -0.001251\n",
      "down   red     0.815578 -0.538156  0.566645 -0.776186\n"
     ]
    }
   ],
   "source": [
    "#Reordering and Sorting Levels\n",
    "# The swaplevel( ) function accepts as argument the names assigned to the two levels that you want to\n",
    "# interchange, and returns a new object with the two levels interchanged between them, while leaving the data unmodified.\n",
    "\n",
    "mframe = pd.DataFrame(np.random.randn(16).reshape(4,4),  index=[['white','white','red','red'], ['up','down','up','down']],\n",
    "columns=[['pen','pen','paper','paper'],[1,2,1,2]])\n",
    "print(mframe)\n",
    "mframe.columns.names = ['objects','id']\n",
    "mframe.index.names = ['colors','status']\n",
    "print(mframe)\n",
    "print(mframe.swaplevel('colors','status'))   \n",
    "# mframe.sortlevel('colors') #deprecated\n"
   ]
  },
  {
   "cell_type": "code",
   "execution_count": 108,
   "id": "dac5529a-bc04-4b9c-8038-73bddedbfeab",
   "metadata": {},
   "outputs": [
    {
     "name": "stdout",
     "output_type": "stream",
     "text": [
      "Empty DataFrame\n",
      "Columns: []\n",
      "Index: [(blue, 0.13932947077929486), (blue, 0.48690683471388274), (blue, 0.5685013474409936), (red, -0.1617454346588351), (red, 1.1089210640450908), (red, 1.344113513885896)]\n"
     ]
    }
   ],
   "source": [
    "import pandas as pd\n",
    "import numpy as np\n",
    "\n",
    "# Sample DataFrame with a multi-level index\n",
    "mframe = pd.DataFrame({\n",
    "    \"data\": np.random.randn(6),\n",
    "    \"colors\": [\"red\", \"blue\", \"red\", \"blue\", \"red\", \"blue\"]\n",
    "}).set_index(['colors', 'data'])\n",
    "\n",
    "# Sort by 'colors' index level\n",
    "sorted_frame = mframe.sort_index(level='colors')\n",
    "print(sorted_frame)\n"
   ]
  },
  {
   "cell_type": "code",
   "execution_count": 140,
   "id": "df357fcc-cc55-43a3-a260-737c570bc9c5",
   "metadata": {},
   "outputs": [
    {
     "name": "stdout",
     "output_type": "stream",
     "text": [
      "0    7\n",
      "1    5\n",
      "2    5\n",
      "3    8\n",
      "dtype: int64 \n",
      "\n"
     ]
    },
    {
     "data": {
      "text/plain": [
       "ball     NaN\n",
       "pen      NaN\n",
       "pencil   NaN\n",
       "paper    NaN\n",
       "dtype: float64"
      ]
     },
     "execution_count": 140,
     "metadata": {},
     "output_type": "execute_result"
    }
   ],
   "source": [
    "# Using the method corrwith( ), you can calculate the pairwise correlations between the columns or rows\n",
    "# of a data frame with a Series or another DataFrame( ).\n",
    "ser = pd.Series([7, 5, 5, 8]) \n",
    "print(ser,\"\\n\")\n",
    "frame2.corrwith(ser)"
   ]
  },
  {
   "cell_type": "code",
   "execution_count": 104,
   "id": "3447eaca-331c-4a25-8552-6b6434adf29b",
   "metadata": {},
   "outputs": [
    {
     "name": "stdout",
     "output_type": "stream",
     "text": [
      "Correlation:  0.9999999999999999\n",
      "Covariance:   5.0\n"
     ]
    }
   ],
   "source": [
    "import pandas as pd\n",
    "\n",
    "# Example data\n",
    "data = {\n",
    "    'seq': [1, 2, 3, 4, 5],\n",
    "    'seq2': [2, 4, 6, 8, 10]\n",
    "}\n",
    "\n",
    "df = pd.DataFrame(data)\n",
    "\n",
    "# Calculate correlation and covariance\n",
    "correlation = df['seq'].corr(df['seq2'])\n",
    "covariance = df['seq'].cov(df['seq2'])\n",
    "\n",
    "print(\"Correlation: \", correlation) # correlation would be 1, because seq2 is a perfect linear transformation of seq (double the values of seq)\n",
    "print(\"Covariance:  \", covariance)\n",
    "# The covariance would be positive and relatively large, reflecting the strong positive linear relationship between seq and seq2, \n",
    "# but the exact value will depend on the scaling of the variables and the sample size.\n"
   ]
  },
  {
   "cell_type": "code",
   "execution_count": 281,
   "id": "0fba52fe-5f84-49b4-a5d7-824b9711b291",
   "metadata": {},
   "outputs": [
    {
     "name": "stdout",
     "output_type": "stream",
     "text": [
      "    Column1   Column2   Column3\n",
      "0  1.764052  0.400157  0.978738\n",
      "1  2.240893  1.867558 -0.977278\n",
      "2  0.950088 -0.151357 -0.103219\n",
      "3  0.410599  0.144044  1.454274\n",
      "4  0.761038  0.121675  0.443863\n"
     ]
    }
   ],
   "source": [
    "# Using Random Data\n",
    "import numpy as np # np is a abbreviation for NumPy library\n",
    "\n",
    "# Random data\n",
    "np.random.seed(0) # random refers to a submodule of NumPy (numpy.random) that deals with random number generation. \n",
    "\n",
    "# Setting a seed ensures that the sequence of random numbers generated by NumPy is reproducible\n",
    "# every time you run this code, you will get the same matrix of random numbers. \n",
    "# debugging and for scenarios where consistent output is required, such as in automated tests or scientific experiments.\n",
    "random_data = np.random.randn(5, 3)  # 5 rows, 3 columns\n",
    "\n",
    "df_random = pd.DataFrame(random_data, columns=['Column1', 'Column2', 'Column3'])\n",
    "\n",
    "print(df_random)\n"
   ]
  },
  {
   "cell_type": "code",
   "execution_count": 174,
   "id": "853ad36a-ed05-4c61-8d13-2b616814da0e",
   "metadata": {},
   "outputs": [
    {
     "name": "stdout",
     "output_type": "stream",
     "text": [
      "[0.5488135  0.71518937 0.60276338 0.54488318 0.4236548 ]\n"
     ]
    }
   ],
   "source": [
    "import numpy as np\n",
    "\n",
    "np.random.seed(0)  # Set the seed for reproducibility\n",
    "random_numbers = np.random.rand(5)  # Generate 5 random numbers from a uniform distribution\n",
    "\n",
    "print(random_numbers)\n"
   ]
  },
  {
   "cell_type": "code",
   "execution_count": 208,
   "id": "83456200-f41b-4d9c-9179-c16a55ff31eb",
   "metadata": {},
   "outputs": [
    {
     "name": "stdout",
     "output_type": "stream",
     "text": [
      "    Name  Age         City\n",
      "0  Alice   25     New York\n",
      "1    Bob   26  Los Angeles\n",
      "2  Chris   27      Chicago\n",
      "values:______ \n",
      " [['Alice' 25 'New York']\n",
      " ['Bob' 26 'Los Angeles']\n",
      " ['Chris' 27 'Chicago']]\n",
      "Columns:______ \n",
      " Index(['Name', 'Age', 'City'], dtype='object')\n",
      "Index:_______ \n",
      " RangeIndex(start=0, stop=3, step=1)\n",
      "_________Access a column_____________________\n",
      "0       New York\n",
      "1    Los Angeles\n",
      "2        Chicago\n",
      "Name: City, dtype: object\n"
     ]
    }
   ],
   "source": [
    "# Selecting elements\n",
    "# Using [] (Bracket Notation) to access a column\n",
    "import pandas as pd\n",
    "\n",
    "# Create a DataFrame\n",
    "data = {'Name': ['Alice', 'Bob', 'Chris'],\n",
    "        'Age': [25, 26, 27],\n",
    "        'City': ['New York', 'Los Angeles', 'Chicago']\n",
    "       }\n",
    "df = pd.DataFrame(data)\n",
    "print(df)\n",
    "\n",
    "print(\"values:______ \\n\",df.values)\n",
    "print(\"Columns:______ \\n\",df.columns)\n",
    "print(\"Index:_______ \\n\",df.index)\n",
    "print(\"_________Access a column_____________________\")\n",
    "# Access the 'Name' column\n",
    "print(df['City'])"
   ]
  },
  {
   "cell_type": "code",
   "execution_count": null,
   "id": "8e2e4d3f-0a23-44e2-aac3-d9bf18de084b",
   "metadata": {},
   "outputs": [],
   "source": [
    "# Since .ix[] has been removed, you should use .loc[] or .iloc[] depending on your needs:\n",
    "\n",
    "# .loc[]: Use this for label-based indexing. It’s safe and predictable because it works with labels in the index.\n",
    "# .iloc[]: This is suitable for integer-based indexing. It allows you to access elements by their integer position, \n",
    "#          making it more straightforward when dealing with positions rather than labels."
   ]
  },
  {
   "cell_type": "code",
   "execution_count": 196,
   "id": "dbf7d900-52ef-4b9b-b607-44d573ae96c8",
   "metadata": {},
   "outputs": [
    {
     "name": "stdout",
     "output_type": "stream",
     "text": [
      "____Access a row_____________________________\n",
      "Name            Bob\n",
      "Age              26\n",
      "City    Los Angeles\n",
      "Name: 1, dtype: object\n",
      "____Access a single value ___________________\n",
      "27\n",
      "______ multiple rows and specify columns_____\n",
      "    Name         City\n",
      "0  Alice     New York\n",
      "1    Bob  Los Angeles\n",
      "2  Chris      Chicago\n"
     ]
    }
   ],
   "source": [
    "# Using .loc[] (Label-based): This method allows you to access a group of rows and columns by labels or a boolean array.\n",
    "print(\"____Access a row_____________________________\")\n",
    "# Access the row for Bob\n",
    "print(df.loc[1])\n",
    "print(\"____Access a single value ___________________\")\n",
    "# Access the 'Age' of Chris using label\n",
    "print(df.loc[2, 'Age'])\n",
    "print(\"______ multiple rows and specify columns_____\")\n",
    "# \n",
    "print(df.loc[0:2, ['Name', 'City']])\n"
   ]
  },
  {
   "cell_type": "code",
   "execution_count": 230,
   "id": "9133376f-7a39-4534-bd02-f08374d65c59",
   "metadata": {},
   "outputs": [
    {
     "name": "stdout",
     "output_type": "stream",
     "text": [
      "Name            Bob\n",
      "Age              26\n",
      "City    Los Angeles\n",
      "Name: 1, dtype: object\n",
      "_________________________________________________________________ \n",
      "\n",
      "26\n",
      "_________________________________________________________________ \n",
      "\n",
      "    Name  Age\n",
      "0  Alice   25\n",
      "1    Bob   26\n"
     ]
    }
   ],
   "source": [
    "# Using .iloc[] (Integer position-based)\n",
    "\n",
    "#      Name  Age         City\n",
    "#   0  Alice   25     New York\n",
    "#   1    Bob   26  Los Angeles\n",
    "#   2  Chris   27      Chicago\n",
    "\n",
    "# Access the second row\n",
    "print(df.iloc[1])\n",
    "print(\"_________________________________________________________________ \\n\")\n",
    "# Access the element at the second row and second column (Age of Bob)\n",
    "print(df.iloc[1, 1])\n",
    "print(\"_________________________________________________________________ \\n\")\n",
    "# Access a range of rows and columns\n",
    "print(df.iloc[0:2, 0:2])\n"
   ]
  },
  {
   "cell_type": "code",
   "execution_count": 226,
   "id": "176e12f7-5d54-44bc-93a1-0a4891cf4b62",
   "metadata": {},
   "outputs": [
    {
     "name": "stdout",
     "output_type": "stream",
     "text": [
      "    Name  Age         City\n",
      "1    Bob   26  Los Angeles\n",
      "2  Chris   27      Chicago\n",
      "_________________________________________________________________ \n",
      "\n",
      "  Name  Age         City\n",
      "1  Bob   26  Los Angeles\n"
     ]
    }
   ],
   "source": [
    "# Using Conditional Selection\n",
    "\n",
    "# Select rows where Age is greater than 25\n",
    "print(df[df['Age'] > 25])\n",
    "print(\"_________________________________________________________________ \\n\")\n",
    "# Multiple conditions\n",
    "print(df[(df['Age'] > 25) & (df['City'] == 'Los Angeles')])\n"
   ]
  },
  {
   "cell_type": "code",
   "execution_count": 232,
   "id": "1ddde3fb-9207-487d-b16c-e1267e853a87",
   "metadata": {},
   "outputs": [
    {
     "name": "stdout",
     "output_type": "stream",
     "text": [
      "New York\n",
      "New York\n"
     ]
    }
   ],
   "source": [
    "# Using .at[] and .iat[] for Fast Access to a Single Element\n",
    "\n",
    "\n",
    "# Using `.at[]` - Access the 'City' of Alice\n",
    "print(df.at[0, 'City'])\n",
    "\n",
    "# Using `.iat[]` - Access the 'City' of Alice using integer indices\n",
    "print(df.iat[0, 2])"
   ]
  },
  {
   "cell_type": "code",
   "execution_count": 236,
   "id": "2a0770fe-be21-4426-a67b-5bbebe6ab6ad",
   "metadata": {},
   "outputs": [
    {
     "data": {
      "text/html": [
       "<div>\n",
       "<style scoped>\n",
       "    .dataframe tbody tr th:only-of-type {\n",
       "        vertical-align: middle;\n",
       "    }\n",
       "\n",
       "    .dataframe tbody tr th {\n",
       "        vertical-align: top;\n",
       "    }\n",
       "\n",
       "    .dataframe thead th {\n",
       "        text-align: right;\n",
       "    }\n",
       "</style>\n",
       "<table border=\"1\" class=\"dataframe\">\n",
       "  <thead>\n",
       "    <tr style=\"text-align: right;\">\n",
       "      <th>item</th>\n",
       "      <th>Name</th>\n",
       "      <th>Age</th>\n",
       "      <th>City</th>\n",
       "    </tr>\n",
       "    <tr>\n",
       "      <th>id</th>\n",
       "      <th></th>\n",
       "      <th></th>\n",
       "      <th></th>\n",
       "    </tr>\n",
       "  </thead>\n",
       "  <tbody>\n",
       "    <tr>\n",
       "      <th>0</th>\n",
       "      <td>Alice</td>\n",
       "      <td>25</td>\n",
       "      <td>New York</td>\n",
       "    </tr>\n",
       "    <tr>\n",
       "      <th>1</th>\n",
       "      <td>Bob</td>\n",
       "      <td>26</td>\n",
       "      <td>Los Angeles</td>\n",
       "    </tr>\n",
       "    <tr>\n",
       "      <th>2</th>\n",
       "      <td>Chris</td>\n",
       "      <td>27</td>\n",
       "      <td>Chicago</td>\n",
       "    </tr>\n",
       "  </tbody>\n",
       "</table>\n",
       "</div>"
      ],
      "text/plain": [
       "item   Name  Age         City\n",
       "id                           \n",
       "0     Alice   25     New York\n",
       "1       Bob   26  Los Angeles\n",
       "2     Chris   27      Chicago"
      ]
     },
     "execution_count": 236,
     "metadata": {},
     "output_type": "execute_result"
    }
   ],
   "source": [
    "df.index.name = 'id'; \n",
    "df.columns.name = 'item'\n",
    "df"
   ]
  },
  {
   "cell_type": "code",
   "execution_count": 243,
   "id": "fd6fe5a1-7732-493f-882f-3388625b87b6",
   "metadata": {},
   "outputs": [
    {
     "name": "stdout",
     "output_type": "stream",
     "text": [
      "    Name  Age  Status\n",
      "0  Alice   25  Active\n",
      "1    Bob   26  Active\n",
      "2  Chris   27  Active\n"
     ]
    }
   ],
   "source": [
    "import pandas as pd\n",
    "\n",
    "# Create a DataFrame\n",
    "df = pd.DataFrame({\n",
    "    'Name': ['Alice', 'Bob', 'Chris'],\n",
    "    'Age': [25, 26, 27]\n",
    "})\n",
    "\n",
    "# Assign a single value to a new column\n",
    "df['Status'] = 'Active'\n",
    "print(df)\n"
   ]
  },
  {
   "cell_type": "code",
   "execution_count": 245,
   "id": "5ea80f07-9b44-46ac-85c6-9bd26890a467",
   "metadata": {},
   "outputs": [
    {
     "name": "stdout",
     "output_type": "stream",
     "text": [
      "    Name  Age  Status\n",
      "0  Alice   25  Active\n",
      "1    Bob   30  Senior\n",
      "2  Chris   27  Senior\n"
     ]
    }
   ],
   "source": [
    "# Assigning Values Using loc\n",
    "\n",
    "# Set 'Age' of Bob to 30\n",
    "df.loc[df['Name'] == 'Bob', 'Age'] = 30\n",
    "\n",
    "# Set multiple values conditionally\n",
    "df.loc[df['Age'] > 25, 'Status'] = 'Senior'\n",
    "print(df)\n"
   ]
  },
  {
   "cell_type": "code",
   "execution_count": 247,
   "id": "9c9d1bd5-d21a-4a32-93d3-ffe1f635ef4a",
   "metadata": {},
   "outputs": [
    {
     "name": "stdout",
     "output_type": "stream",
     "text": [
      "    Name  Age  Status\n",
      "0  Alice   24  Active\n",
      "1    Bob   30  Senior\n",
      "2  Chris   27  Senior\n"
     ]
    }
   ],
   "source": [
    "# Assigning Values Using iloc ( integer based assignment)\n",
    "\n",
    "# Set the value of the first row, second column (Age of Alice)\n",
    "df.iloc[0, 1] = 24\n",
    "print(df)\n"
   ]
  },
  {
   "cell_type": "code",
   "execution_count": 249,
   "id": "920c38b7-47e3-472b-b2a7-cd7e32b965cc",
   "metadata": {},
   "outputs": [
    {
     "name": "stdout",
     "output_type": "stream",
     "text": [
      "    Name  Age  Status  Seniority\n",
      "0  Alice   24  Active          4\n",
      "1    Bob   30  Senior         10\n",
      "2  Chris   27  Senior          7\n"
     ]
    }
   ],
   "source": [
    "# Adding a New Column Based on Existing Columns\n",
    "\n",
    "df['Seniority'] = df['Age'] - 20\n",
    "print(df)\n"
   ]
  },
  {
   "cell_type": "code",
   "execution_count": 251,
   "id": "a4a29e1c-93cf-4399-a8fe-470cd263823e",
   "metadata": {},
   "outputs": [
    {
     "name": "stdout",
     "output_type": "stream",
     "text": [
      "    Name  Age  Status  Seniority  Age_Plus_Five  Senior_Status\n",
      "0  Alice   24  Active          4             29          False\n",
      "1    Bob   30  Senior         10             35           True\n",
      "2  Chris   27  Senior          7             32          False\n"
     ]
    }
   ],
   "source": [
    "# Using assign Method\n",
    "\n",
    "# Create or modify columns using 'assign'\n",
    "new_df = df.assign(\n",
    "    Age_Plus_Five = df['Age'] + 5,\n",
    "    Senior_Status = lambda x: x['Age'] > 28\n",
    ")\n",
    "print(new_df)\n"
   ]
  },
  {
   "cell_type": "code",
   "execution_count": 253,
   "id": "706fd157-d1f4-4a48-b560-fa029d9b138f",
   "metadata": {},
   "outputs": [
    {
     "name": "stdout",
     "output_type": "stream",
     "text": [
      "    Name  Age  Status  Seniority\n",
      "0  Alice   24  Active          4\n",
      "1    Bob   30  Senior         10\n",
      "2  Chris   30  Senior          7\n"
     ]
    }
   ],
   "source": [
    "# Setting Values with Conditions\n",
    "import numpy as np\n",
    "# Set 'Age' based on a condition\n",
    "df['Age'] = np.where(df['Age'] > 26, 30, df['Age'])\n",
    "print(df)\n"
   ]
  },
  {
   "cell_type": "code",
   "execution_count": 263,
   "id": "946b80cb-db7b-4826-8732-538b0e361ded",
   "metadata": {},
   "outputs": [
    {
     "name": "stdout",
     "output_type": "stream",
     "text": [
      "0    ALICE\n",
      "1      BOB\n",
      "2    CHRIS\n",
      "Name: Name, dtype: object\n",
      "<class 'pandas.core.series.Series'>\n",
      "    Name  Age  Status  Seniority\n",
      "0  ALICE   24  Active          4\n",
      "1    BOB   30  Senior         10\n",
      "2  CHRIS   30  Senior          7\n"
     ]
    }
   ],
   "source": [
    "# Applying a Function to Modify a Column\n",
    "\n",
    "# Update 'Name' to uppercase\n",
    "df['Name'] = df['Name'].apply(lambda x: x.upper()) \n",
    "print(df['Name'])\n",
    "print(type(df['Name']))\n",
    "print(df)\n",
    "\n",
    "# A lambda function is a small anonymous function defined with the keyword lambda.\n",
    "# The syntax of a lambda function is lambda arguments: expression.\n",
    "# It can take any number of arguments but only supports a single expression.\n",
    "# In the above ex, takes 1 argument( x) and the applies expression (x.upper()) to it. \n",
    "# here x is an element of the DataFrame\n",
    "# Pandas iterates over each element of the 'Name' Series.\n",
    "# For each element (name), the lambda function is called with this element as x.\n",
    "# The x.upper() method transforms the name to uppercase.\n",
    "# The .apply() method collects all these transformed names into a new Series that replaces the original 'Name' column."
   ]
  },
  {
   "cell_type": "code",
   "execution_count": 5,
   "id": "5fdfafec-c595-4485-b86e-0c4507d3f3a6",
   "metadata": {},
   "outputs": [
    {
     "name": "stdout",
     "output_type": "stream",
     "text": [
      "                     A         B\n",
      "green top     0.374540  0.950714\n",
      "      bottom  0.731994  0.598658\n",
      "blue  top     0.156019  0.155995\n",
      "      bottom  0.058084  0.866176\n",
      "red   top     0.601115  0.708073\n",
      "      bottom  0.020584  0.969910\n",
      "green  top    0.374540\n",
      "blue   top    0.156019\n",
      "red    top    0.601115\n",
      "Name: A, dtype: float64\n"
     ]
    }
   ],
   "source": [
    "import pandas as pd\n",
    "import numpy as np\n",
    "\n",
    "# Creating a multi-level indexed DataFrame\n",
    "np.random.seed(42)  # For reproducibility\n",
    "df = pd.DataFrame(np.random.rand(6, 2),\n",
    "                  index=[['green', 'green', 'blue', 'blue', 'red', 'red'], \n",
    "                         ['top', 'bottom', 'top', 'bottom', 'top', 'bottom']],\n",
    "                  columns=['A', 'B'])\n",
    "print(df)\n",
    "# print(df['A']['top'])\n",
    "# print(df.loc[:, 'top']['A'])\n",
    "# print(df.loc['top', 'A'])\n",
    "print(df.loc[(slice(None), 'top'), 'A'])"
   ]
  },
  {
   "cell_type": "code",
   "execution_count": null,
   "id": "7fbc6941-9db8-4399-aadc-35a992b73fe6",
   "metadata": {},
   "outputs": [],
   "source": []
  },
  {
   "cell_type": "code",
   "execution_count": null,
   "id": "c5f545e4-d7f6-4b29-b164-a968f4223517",
   "metadata": {},
   "outputs": [],
   "source": []
  }
 ],
 "metadata": {
  "kernelspec": {
   "display_name": "Python 3 (ipykernel)",
   "language": "python",
   "name": "python3"
  },
  "language_info": {
   "codemirror_mode": {
    "name": "ipython",
    "version": 3
   },
   "file_extension": ".py",
   "mimetype": "text/x-python",
   "name": "python",
   "nbconvert_exporter": "python",
   "pygments_lexer": "ipython3",
   "version": "3.12.4"
  }
 },
 "nbformat": 4,
 "nbformat_minor": 5
}
